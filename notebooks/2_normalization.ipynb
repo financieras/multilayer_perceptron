{
 "cells": [
  {
   "cell_type": "markdown",
   "id": "8108c8bc-4bd2-40d6-99c4-54ab810a1dfa",
   "metadata": {},
   "source": [
    "# Normalización\n",
    "- Realizaremos una normalización con el Dataset completo para usarlo en el siguiente Notebook de Visualización.\n",
    "- Usaremos la **Z-score normalization** que estandariza los datos para que tengan media 0 y desviación estándar 1.\n",
    "- Se generará el archivo: `data/processed/zscore_normalized_all.csv`"
   ]
  },
  {
   "cell_type": "code",
   "execution_count": 1,
   "id": "1901fb7f-3940-4cce-bb61-86470b058ef1",
   "metadata": {},
   "outputs": [],
   "source": [
    "import numpy as np\n",
    "import pandas as pd"
   ]
  },
  {
   "cell_type": "markdown",
   "id": "76ce13ca-445b-4932-91ab-7787574691c8",
   "metadata": {},
   "source": [
    "## Cargar los datos del archivo `cleaned_data.csv`"
   ]
  },
  {
   "cell_type": "markdown",
   "id": "4cf27314-8e4f-4139-bef6-43020feb10af",
   "metadata": {},
   "source": [
    "### Leer el Dataset"
   ]
  },
  {
   "cell_type": "code",
   "execution_count": 2,
   "id": "a6119670-28be-4c85-8f84-ec3179c56335",
   "metadata": {},
   "outputs": [],
   "source": [
    "# Cargar el dataset desde el archivo CSV\n",
    "df = pd.read_csv('../data/processed/cleaned_data.csv')"
   ]
  },
  {
   "cell_type": "markdown",
   "id": "4654d11e-6632-4f95-a6f0-e63518172c84",
   "metadata": {},
   "source": [
    "## Normalización Z-score\n",
    "Aplicamos la normalización Z-score:\n",
    "$$ X_{\\text{norm}} = \\frac{X - \\mu}{\\sigma} $$\n",
    "donde $\\mu$ es la media y $\\sigma$ es la desviación estándar.  \n",
    "Calculamos estos parámetros sobre el dataset completo y normalizamos todas las columnas numéricas (excluyendo 'diagnosis')."
   ]
  },
  {
   "cell_type": "markdown",
   "id": "5bfc87bc-7606-43c8-aea2-847d72c0cf80",
   "metadata": {},
   "source": [
    "### Función de Normalización"
   ]
  },
  {
   "cell_type": "code",
   "execution_count": 5,
   "id": "2db0a57a-1a9d-4d74-a38c-f2b8b58e0a10",
   "metadata": {},
   "outputs": [],
   "source": [
    "X = df.select_dtypes(include=['float64'])\n",
    "\n",
    "# Calcular media y desviación estándar\n",
    "mean_vals = X.mean()\n",
    "std_vals = X.std()\n",
    "\n",
    "# Normalizar las características\n",
    "X_normalized = (X - mean_vals) / std_vals"
   ]
  },
  {
   "cell_type": "code",
   "execution_count": 7,
   "id": "bc032bd8-3f62-4471-9233-c34e543bc136",
   "metadata": {},
   "outputs": [
    {
     "name": "stdout",
     "output_type": "stream",
     "text": [
      "<class 'pandas.core.frame.DataFrame'>\n",
      "RangeIndex: 569 entries, 0 to 568\n",
      "Data columns (total 31 columns):\n",
      " #   Column     Non-Null Count  Dtype  \n",
      "---  ------     --------------  -----  \n",
      " 0   diagnosis  569 non-null    int64  \n",
      " 1   f01        569 non-null    float64\n",
      " 2   f02        569 non-null    float64\n",
      " 3   f03        569 non-null    float64\n",
      " 4   f04        569 non-null    float64\n",
      " 5   f05        569 non-null    float64\n",
      " 6   f06        569 non-null    float64\n",
      " 7   f07        569 non-null    float64\n",
      " 8   f08        569 non-null    float64\n",
      " 9   f09        569 non-null    float64\n",
      " 10  f10        569 non-null    float64\n",
      " 11  f11        569 non-null    float64\n",
      " 12  f12        569 non-null    float64\n",
      " 13  f13        569 non-null    float64\n",
      " 14  f14        569 non-null    float64\n",
      " 15  f15        569 non-null    float64\n",
      " 16  f16        569 non-null    float64\n",
      " 17  f17        569 non-null    float64\n",
      " 18  f18        569 non-null    float64\n",
      " 19  f19        569 non-null    float64\n",
      " 20  f20        569 non-null    float64\n",
      " 21  f21        569 non-null    float64\n",
      " 22  f22        569 non-null    float64\n",
      " 23  f23        569 non-null    float64\n",
      " 24  f24        569 non-null    float64\n",
      " 25  f25        569 non-null    float64\n",
      " 26  f26        569 non-null    float64\n",
      " 27  f27        569 non-null    float64\n",
      " 28  f28        569 non-null    float64\n",
      " 29  f29        569 non-null    float64\n",
      " 30  f30        569 non-null    float64\n",
      "dtypes: float64(30), int64(1)\n",
      "memory usage: 137.9 KB\n"
     ]
    }
   ],
   "source": [
    "# Crear DataFrame añadiendo al inicio 'diagnosis'\n",
    "df_normalized = pd.DataFrame(X_normalized)\n",
    "df_normalized.insert(0, 'diagnosis', df['diagnosis'])  # Insertar diagnosis al principio\n",
    "df_normalized.info()"
   ]
  },
  {
   "cell_type": "code",
   "execution_count": null,
   "id": "dce74599-5ded-498a-940b-9836bea9d05e",
   "metadata": {},
   "outputs": [],
   "source": []
  }
 ],
 "metadata": {
  "kernelspec": {
   "display_name": "Python 3 (ipykernel)",
   "language": "python",
   "name": "python3"
  },
  "language_info": {
   "codemirror_mode": {
    "name": "ipython",
    "version": 3
   },
   "file_extension": ".py",
   "mimetype": "text/x-python",
   "name": "python",
   "nbconvert_exporter": "python",
   "pygments_lexer": "ipython3",
   "version": "3.12.3"
  }
 },
 "nbformat": 4,
 "nbformat_minor": 5
}
