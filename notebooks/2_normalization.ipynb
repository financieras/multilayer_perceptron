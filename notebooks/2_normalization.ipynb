{
 "cells": [
  {
   "cell_type": "markdown",
   "id": "8108c8bc-4bd2-40d6-99c4-54ab810a1dfa",
   "metadata": {},
   "source": [
    "# Normalización\n",
    "- Realizaremos una normalización con el Dataset completo para usarlo en el siguiente Notebook de Visualización.\n",
    "- Usaremos la **Z-score normalization** que estandariza los datos para que tengan media 0 y desviación estándar 1.\n",
    "- Se generará el archivo: `data/processed/zscore_normalized_all.csv`"
   ]
  },
  {
   "cell_type": "code",
   "execution_count": 1,
   "id": "1901fb7f-3940-4cce-bb61-86470b058ef1",
   "metadata": {},
   "outputs": [],
   "source": [
    "import pandas as pd\n",
    "from tabulate import tabulate"
   ]
  },
  {
   "cell_type": "markdown",
   "id": "76ce13ca-445b-4932-91ab-7787574691c8",
   "metadata": {},
   "source": [
    "## Cargar los datos del archivo `cleaned_data.csv`\n",
    "Contenido del archivo:\n",
    "- Primera columna 'diagnosis' compuesta de ceros y unos. 1 -> M, 0 -> B\n",
    "- 30 columnas con las características: f01 - f30"
   ]
  },
  {
   "cell_type": "markdown",
   "id": "4cf27314-8e4f-4139-bef6-43020feb10af",
   "metadata": {},
   "source": [
    "### Leer el Dataset"
   ]
  },
  {
   "cell_type": "code",
   "execution_count": 2,
   "id": "a6119670-28be-4c85-8f84-ec3179c56335",
   "metadata": {},
   "outputs": [],
   "source": [
    "# Cargar el dataset desde el archivo CSV\n",
    "df = pd.read_csv('../data/processed/cleaned_data.csv')"
   ]
  },
  {
   "cell_type": "markdown",
   "id": "4654d11e-6632-4f95-a6f0-e63518172c84",
   "metadata": {},
   "source": [
    "## Normalización Z-score\n",
    "Aplicamos la normalización Z-score:\n",
    "$$ Z = \\frac{X - \\mu}{\\sigma} $$\n",
    "donde:\n",
    "- $Z$ es $X_{\\text{norm}}$\n",
    "- $\\mu$ es la media\n",
    "- $\\sigma$ es la desviación estándar  \n",
    "\n",
    "Calculamos estos parámetros sobre el dataset completo y normalizamos todas las columnas numéricas (excluyendo 'diagnosis')."
   ]
  },
  {
   "cell_type": "markdown",
   "id": "5bfc87bc-7606-43c8-aea2-847d72c0cf80",
   "metadata": {},
   "source": [
    "### Función de Normalización\n",
    "- Se normalizan las 30 columnas numéricas de tipo float\n",
    "- Se excluye 'diagnosis' porque es la variable objetivo (categórica) y no debe normalizarse"
   ]
  },
  {
   "cell_type": "code",
   "execution_count": 3,
   "id": "2db0a57a-1a9d-4d74-a38c-f2b8b58e0a10",
   "metadata": {},
   "outputs": [],
   "source": [
    "# Seleccionar solo las columnas numéricas de tipo float\n",
    "X = df.select_dtypes(include=['float64'])\n",
    "\n",
    "# Calcular media y desviación estándar\n",
    "mean_vals = X.mean()\n",
    "std_vals = X.std()\n",
    "\n",
    "# Normalizar las características\n",
    "# restando la media y dividiendo por la desviación estándar\n",
    "X_normalized = (X - mean_vals) / std_vals"
   ]
  },
  {
   "cell_type": "code",
   "execution_count": 4,
   "id": "bc032bd8-3f62-4471-9233-c34e543bc136",
   "metadata": {},
   "outputs": [],
   "source": [
    "# Crear el DataFrame normalizado añadiendo al inicio la columna 'diagnosis'\n",
    "df_normalized = pd.DataFrame(X_normalized)\n",
    "df_normalized.insert(0, 'diagnosis', df['diagnosis'])  # Insertar diagnosis al principio"
   ]
  },
  {
   "cell_type": "code",
   "execution_count": 5,
   "id": "dce74599-5ded-498a-940b-9836bea9d05e",
   "metadata": {},
   "outputs": [
    {
     "data": {
      "text/html": [
       "<div>\n",
       "<style scoped>\n",
       "    .dataframe tbody tr th:only-of-type {\n",
       "        vertical-align: middle;\n",
       "    }\n",
       "\n",
       "    .dataframe tbody tr th {\n",
       "        vertical-align: top;\n",
       "    }\n",
       "\n",
       "    .dataframe thead th {\n",
       "        text-align: right;\n",
       "    }\n",
       "</style>\n",
       "<table border=\"1\" class=\"dataframe\">\n",
       "  <thead>\n",
       "    <tr style=\"text-align: right;\">\n",
       "      <th></th>\n",
       "      <th>diagnosis</th>\n",
       "      <th>f01</th>\n",
       "      <th>f02</th>\n",
       "      <th>f03</th>\n",
       "      <th>f04</th>\n",
       "      <th>f05</th>\n",
       "      <th>f06</th>\n",
       "      <th>f07</th>\n",
       "      <th>f08</th>\n",
       "      <th>f09</th>\n",
       "      <th>...</th>\n",
       "      <th>f21</th>\n",
       "      <th>f22</th>\n",
       "      <th>f23</th>\n",
       "      <th>f24</th>\n",
       "      <th>f25</th>\n",
       "      <th>f26</th>\n",
       "      <th>f27</th>\n",
       "      <th>f28</th>\n",
       "      <th>f29</th>\n",
       "      <th>f30</th>\n",
       "    </tr>\n",
       "  </thead>\n",
       "  <tbody>\n",
       "    <tr>\n",
       "      <th>0</th>\n",
       "      <td>1</td>\n",
       "      <td>1.096100</td>\n",
       "      <td>-2.071512</td>\n",
       "      <td>1.268817</td>\n",
       "      <td>0.983510</td>\n",
       "      <td>1.567087</td>\n",
       "      <td>3.280628</td>\n",
       "      <td>2.650542</td>\n",
       "      <td>2.530249</td>\n",
       "      <td>2.215566</td>\n",
       "      <td>...</td>\n",
       "      <td>1.885031</td>\n",
       "      <td>-1.358098</td>\n",
       "      <td>2.301575</td>\n",
       "      <td>1.999478</td>\n",
       "      <td>1.306537</td>\n",
       "      <td>2.614365</td>\n",
       "      <td>2.107672</td>\n",
       "      <td>2.294058</td>\n",
       "      <td>2.748204</td>\n",
       "      <td>1.935312</td>\n",
       "    </tr>\n",
       "    <tr>\n",
       "      <th>1</th>\n",
       "      <td>1</td>\n",
       "      <td>1.828212</td>\n",
       "      <td>-0.353322</td>\n",
       "      <td>1.684473</td>\n",
       "      <td>1.907030</td>\n",
       "      <td>-0.826235</td>\n",
       "      <td>-0.486643</td>\n",
       "      <td>-0.023825</td>\n",
       "      <td>0.547662</td>\n",
       "      <td>0.001391</td>\n",
       "      <td>...</td>\n",
       "      <td>1.804340</td>\n",
       "      <td>-0.368879</td>\n",
       "      <td>1.533776</td>\n",
       "      <td>1.888827</td>\n",
       "      <td>-0.375282</td>\n",
       "      <td>-0.430066</td>\n",
       "      <td>-0.146620</td>\n",
       "      <td>1.086129</td>\n",
       "      <td>-0.243675</td>\n",
       "      <td>0.280943</td>\n",
       "    </tr>\n",
       "    <tr>\n",
       "      <th>2</th>\n",
       "      <td>1</td>\n",
       "      <td>1.578499</td>\n",
       "      <td>0.455786</td>\n",
       "      <td>1.565126</td>\n",
       "      <td>1.557513</td>\n",
       "      <td>0.941382</td>\n",
       "      <td>1.052000</td>\n",
       "      <td>1.362280</td>\n",
       "      <td>2.035440</td>\n",
       "      <td>0.938859</td>\n",
       "      <td>...</td>\n",
       "      <td>1.510541</td>\n",
       "      <td>-0.023953</td>\n",
       "      <td>1.346291</td>\n",
       "      <td>1.455004</td>\n",
       "      <td>0.526944</td>\n",
       "      <td>1.081980</td>\n",
       "      <td>0.854222</td>\n",
       "      <td>1.953282</td>\n",
       "      <td>1.151242</td>\n",
       "      <td>0.201214</td>\n",
       "    </tr>\n",
       "    <tr>\n",
       "      <th>3</th>\n",
       "      <td>1</td>\n",
       "      <td>-0.768233</td>\n",
       "      <td>0.253509</td>\n",
       "      <td>-0.592166</td>\n",
       "      <td>-0.763792</td>\n",
       "      <td>3.280667</td>\n",
       "      <td>3.399917</td>\n",
       "      <td>1.914213</td>\n",
       "      <td>1.450431</td>\n",
       "      <td>2.864862</td>\n",
       "      <td>...</td>\n",
       "      <td>-0.281217</td>\n",
       "      <td>0.133866</td>\n",
       "      <td>-0.249720</td>\n",
       "      <td>-0.549538</td>\n",
       "      <td>3.391291</td>\n",
       "      <td>3.889975</td>\n",
       "      <td>1.987839</td>\n",
       "      <td>2.173873</td>\n",
       "      <td>6.040726</td>\n",
       "      <td>4.930672</td>\n",
       "    </tr>\n",
       "    <tr>\n",
       "      <th>4</th>\n",
       "      <td>1</td>\n",
       "      <td>1.748758</td>\n",
       "      <td>-1.150804</td>\n",
       "      <td>1.775011</td>\n",
       "      <td>1.824624</td>\n",
       "      <td>0.280125</td>\n",
       "      <td>0.538866</td>\n",
       "      <td>1.369806</td>\n",
       "      <td>1.427237</td>\n",
       "      <td>-0.009552</td>\n",
       "      <td>...</td>\n",
       "      <td>1.297434</td>\n",
       "      <td>-1.465481</td>\n",
       "      <td>1.337363</td>\n",
       "      <td>1.219651</td>\n",
       "      <td>0.220362</td>\n",
       "      <td>-0.313119</td>\n",
       "      <td>0.612640</td>\n",
       "      <td>0.728618</td>\n",
       "      <td>-0.867590</td>\n",
       "      <td>-0.396751</td>\n",
       "    </tr>\n",
       "  </tbody>\n",
       "</table>\n",
       "<p>5 rows × 31 columns</p>\n",
       "</div>"
      ],
      "text/plain": [
       "   diagnosis       f01       f02       f03       f04       f05       f06  \\\n",
       "0          1  1.096100 -2.071512  1.268817  0.983510  1.567087  3.280628   \n",
       "1          1  1.828212 -0.353322  1.684473  1.907030 -0.826235 -0.486643   \n",
       "2          1  1.578499  0.455786  1.565126  1.557513  0.941382  1.052000   \n",
       "3          1 -0.768233  0.253509 -0.592166 -0.763792  3.280667  3.399917   \n",
       "4          1  1.748758 -1.150804  1.775011  1.824624  0.280125  0.538866   \n",
       "\n",
       "        f07       f08       f09  ...       f21       f22       f23       f24  \\\n",
       "0  2.650542  2.530249  2.215566  ...  1.885031 -1.358098  2.301575  1.999478   \n",
       "1 -0.023825  0.547662  0.001391  ...  1.804340 -0.368879  1.533776  1.888827   \n",
       "2  1.362280  2.035440  0.938859  ...  1.510541 -0.023953  1.346291  1.455004   \n",
       "3  1.914213  1.450431  2.864862  ... -0.281217  0.133866 -0.249720 -0.549538   \n",
       "4  1.369806  1.427237 -0.009552  ...  1.297434 -1.465481  1.337363  1.219651   \n",
       "\n",
       "        f25       f26       f27       f28       f29       f30  \n",
       "0  1.306537  2.614365  2.107672  2.294058  2.748204  1.935312  \n",
       "1 -0.375282 -0.430066 -0.146620  1.086129 -0.243675  0.280943  \n",
       "2  0.526944  1.081980  0.854222  1.953282  1.151242  0.201214  \n",
       "3  3.391291  3.889975  1.987839  2.173873  6.040726  4.930672  \n",
       "4  0.220362 -0.313119  0.612640  0.728618 -0.867590 -0.396751  \n",
       "\n",
       "[5 rows x 31 columns]"
      ]
     },
     "execution_count": 5,
     "metadata": {},
     "output_type": "execute_result"
    }
   ],
   "source": [
    "df_normalized.head()"
   ]
  },
  {
   "cell_type": "markdown",
   "id": "a32a0578-9fe2-4de8-be4b-b0cf8aa900e7",
   "metadata": {},
   "source": [
    "## Grabar el Dataset normalizado"
   ]
  },
  {
   "cell_type": "code",
   "execution_count": 6,
   "id": "abeb63f7-cb70-4743-af61-23ec2e5f0f79",
   "metadata": {},
   "outputs": [
    {
     "name": "stdout",
     "output_type": "stream",
     "text": [
      "Dataset normalizado guardado en '../data/processed/zscore_normalized_all.csv'\n"
     ]
    }
   ],
   "source": [
    "# Guardar los datos normalizados\n",
    "df_normalized.to_csv('../data/processed/zscore_normalized_all.csv', index=False)\n",
    "print(\"Dataset normalizado guardado en '../data/processed/zscore_normalized_all.csv'\")"
   ]
  },
  {
   "cell_type": "markdown",
   "id": "bfbcabfe-29e2-4794-9bb6-a19fb3ec318a",
   "metadata": {},
   "source": [
    "### Verificación de que la media es ~0 tras normalizar\n",
    "Comprobamos que las 30 características tienen media próxima a cero."
   ]
  },
  {
   "cell_type": "code",
   "execution_count": 7,
   "id": "056209f4-d1be-4c5b-b98d-5dba32fbd835",
   "metadata": {},
   "outputs": [
    {
     "data": {
      "text/plain": [
       "diagnosis    3.725835e-01\n",
       "f01         -1.311195e-16\n",
       "f02          6.243785e-17\n",
       "f03         -1.248757e-16\n",
       "f04         -2.185325e-16\n",
       "f05         -8.366672e-16\n",
       "f06          1.998011e-16\n",
       "f07          3.746271e-17\n",
       "f08         -4.995028e-17\n",
       "f09          1.748260e-16\n",
       "f10          4.838933e-16\n",
       "f11          2.497514e-16\n",
       "f12         -1.123881e-16\n",
       "f13         -1.373633e-16\n",
       "f14         -1.186319e-16\n",
       "f15         -1.545337e-16\n",
       "f16          1.873136e-16\n",
       "f17          1.685822e-16\n",
       "f18          2.497514e-17\n",
       "f19          9.365678e-17\n",
       "f20         -6.243785e-18\n",
       "f21         -8.241796e-16\n",
       "f22          1.248757e-17\n",
       "f23         -3.496520e-16\n",
       "f24          0.000000e+00\n",
       "f25         -2.122887e-16\n",
       "f26         -3.621395e-16\n",
       "f27          8.741299e-17\n",
       "f28          2.122887e-16\n",
       "f29          2.622390e-16\n",
       "f30         -5.744282e-16\n",
       "dtype: float64"
      ]
     },
     "execution_count": 7,
     "metadata": {},
     "output_type": "execute_result"
    }
   ],
   "source": [
    "df_normalized.mean()"
   ]
  },
  {
   "cell_type": "markdown",
   "id": "d003584c-7ce7-4a25-8c63-94053ce1cc04",
   "metadata": {},
   "source": [
    "### Verificación de que la desviación estándar ~1 tras normalizar\n",
    "Comprobamos que las 30 características tienen desviación estándar próxima a uno."
   ]
  },
  {
   "cell_type": "code",
   "execution_count": 8,
   "id": "48dc8c98-7c82-4ce3-808f-3bfb3c829729",
   "metadata": {},
   "outputs": [
    {
     "data": {
      "text/plain": [
       "diagnosis    0.483918\n",
       "f01          1.000000\n",
       "f02          1.000000\n",
       "f03          1.000000\n",
       "f04          1.000000\n",
       "f05          1.000000\n",
       "f06          1.000000\n",
       "f07          1.000000\n",
       "f08          1.000000\n",
       "f09          1.000000\n",
       "f10          1.000000\n",
       "f11          1.000000\n",
       "f12          1.000000\n",
       "f13          1.000000\n",
       "f14          1.000000\n",
       "f15          1.000000\n",
       "f16          1.000000\n",
       "f17          1.000000\n",
       "f18          1.000000\n",
       "f19          1.000000\n",
       "f20          1.000000\n",
       "f21          1.000000\n",
       "f22          1.000000\n",
       "f23          1.000000\n",
       "f24          1.000000\n",
       "f25          1.000000\n",
       "f26          1.000000\n",
       "f27          1.000000\n",
       "f28          1.000000\n",
       "f29          1.000000\n",
       "f30          1.000000\n",
       "dtype: float64"
      ]
     },
     "execution_count": 8,
     "metadata": {},
     "output_type": "execute_result"
    }
   ],
   "source": [
    "df_normalized.std()"
   ]
  }
 ],
 "metadata": {
  "kernelspec": {
   "display_name": "Python 3 (ipykernel)",
   "language": "python",
   "name": "python3"
  },
  "language_info": {
   "codemirror_mode": {
    "name": "ipython",
    "version": 3
   },
   "file_extension": ".py",
   "mimetype": "text/x-python",
   "name": "python",
   "nbconvert_exporter": "python",
   "pygments_lexer": "ipython3",
   "version": "3.12.3"
  }
 },
 "nbformat": 4,
 "nbformat_minor": 5
}
