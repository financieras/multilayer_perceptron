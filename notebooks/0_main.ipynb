{
 "cells": [
  {
   "cell_type": "markdown",
   "id": "74f2216a-ed33-4ebd-8bd2-dbf84a601519",
   "metadata": {},
   "source": [
    "# Proyecto de Aprendizaje Automático\n",
    "## Perceptrón Multicapa\n",
    "Este proyecto es una introducción a las redes neuronales artificiales: con la implementación de perceptrones multicapa.  \n",
    "Se utilizan los datos del Wisconsin Breast Cancer Dataset (WBCD)."
   ]
  },
  {
   "cell_type": "markdown",
   "id": "50a1acb6-09a8-4245-a476-520f71ba1da5",
   "metadata": {},
   "source": [
    "```bash\n",
    "/multilayer_perceptron\n",
    "│\n",
    "├── data/                                             # Carpeta para datos crudos y preprocesados\n",
    "│   ├── raw/                                          # Datos originales\n",
    "│   │   └── data.csv                                  # Archivo de datos principal\n",
    "│   └── processed/                                    # Datos preprocesados y normalizados\n",
    "│       ├─── cleaned_data.csv                         # Dataset limpio y con 'diagnosis' como 0 y \n",
    "│       ├─── test_set_normalized.csv                  # Conjunto de datos de prueba normalizados\n",
    "│       ├─── train_set_normalized.csv                 # Conjunto de datos de entrenamiento normalizados\n",
    "│       └─── zscore_normalized.csv                    # Dataset normalizado con Z-score Normalization\n",
    "├── notebooks/                                        # Archivos Jupyter Notebook\n",
    "│   ├── 0_main.ipynb                                  # Orquestador principal\n",
    "│   ├── 1_data_analysis.ipynb                         # Análisis de datos\n",
    "│   ├── 2_normalization.ipynb                         # Normalización de datos\n",
    "│   ├── 3_data_visualization.ipynb                    # Visualización de datos\n",
    "│   ├── 4_preprocessing_data.ipynb                    # Preprocesamiento de datos (división datos entrenamiento / validación)\n",
    "│   ├── 5_model_training.ipynb                        # Entrenamiento del modelo\n",
    "│   ├── 6_prediction.ipynb                            # Predicción y evaluación\n",
    "│   └── 7_documentation.ipynb                         # Documentación de funciones\n",
    "├── output/                                           # Resultados del proyecto\n",
    "│   ├── figures/                                      # Imágenes y gráficos\n",
    "│   │   ├── boxplot_all_features.png                  # Diagrama de caja para todas las características\n",
    "│   │   ├── class_distribution_by_set.png             # Distribución de clases por conjunto\n",
    "│   │   ├── correlation_heatmap.png                   # Mapa de calor de correlación\n",
    "│   │   ├── feature_distribution_comparison.png       # Comparación de distribución de características\n",
    "│   │   ├── feature_importance.png                    # Importancia de las características\n",
    "│   │   ├── histograms_all_features.png               # Histogramas de todas las características\n",
    "│   │   ├── histograms_all_features_by_diagnosis.png  # Histogramas de todas las características por diagnóstico\n",
    "│   │   ├── pairplot_features.png                     # Gráfico de pares de características\n",
    "│   │   ├── pca_biplot.png                            # Biplot de PCA\n",
    "│   │   ├── pca_contribution_pc1.png                  # Contribución de PCA al primer componente principal\n",
    "│   │   ├── pca_contribution_pc2.png                  # Contribución de PCA al segundo componente principal\n",
    "│   │   ├── pca_loadings_heatmap.png                  # Mapa de calor de cargas de PCA\n",
    "│   │   ├── pca_visualization.png                     # Visualización de PCA\n",
    "│   │   ├── radar_plot.png                            # Gráfico de radar\n",
    "│   │   ├── strip_plot.png                            # Gráfico de dispersión\n",
    "│   │   └── violin_plot.png                           # Gráfico de violín\n",
    "│   ├── models/                                       # Resultados del modelo\n",
    "│   ├── features.json                                 # JSON con las distribuciones de probabilidad\n",
    "│   ├── normalization_params.json                     # Medias y desviacines de la normalización del conjunto de entrenamiento\n",
    "│   └── split_params.json                             # Parámetros de división\n",
    "├── utils/                                            # Funciones reutilizables\n",
    "│   ├── config.py                                     # Hiperparámetros y configuraciones\n",
    "│   ├── neural_network_functions.py                   # Funciones para el modelo\n",
    "│   ├── statistical_functions.py                      # Funciones estadísticas\n",
    "│   ├── preprocessing_functions.py                    # Funciones de preprocesamiento\n",
    "│   └── evaluation_functions.py                       # Funciones de evaluación\n",
    "├── requirements.txt                                  # Librerías usadas con Pip\n",
    "└── README.md                                         # Instalación e Introducción al proyecto\n",
    "```"
   ]
  }
 ],
 "metadata": {
  "kernelspec": {
   "display_name": "Python 3 (ipykernel)",
   "language": "python",
   "name": "python3"
  },
  "language_info": {
   "codemirror_mode": {
    "name": "ipython",
    "version": 3
   },
   "file_extension": ".py",
   "mimetype": "text/x-python",
   "name": "python",
   "nbconvert_exporter": "python",
   "pygments_lexer": "ipython3",
   "version": "3.12.2"
  }
 },
 "nbformat": 4,
 "nbformat_minor": 5
}
