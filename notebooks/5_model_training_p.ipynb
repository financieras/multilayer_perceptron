{
 "cells": [
  {
   "cell_type": "markdown",
   "id": "2f26c07b-b6e8-49eb-bab4-d718818a2e6d",
   "metadata": {},
   "source": [
    "# Entremamiento del modelo"
   ]
  },
  {
   "cell_type": "code",
   "execution_count": 1,
   "id": "d18b5f28-a1f1-4b3a-8466-07ec0895951d",
   "metadata": {},
   "outputs": [
    {
     "name": "stdout",
     "output_type": "stream",
     "text": [
      "Epoch 000, Loss: 0.69739507\n",
      "Epoch 010, Loss: 0.67824463\n",
      "Epoch 020, Loss: 0.66908009\n",
      "Epoch 030, Loss: 0.66466075\n",
      "Epoch 040, Loss: 0.66251195\n",
      "Epoch 050, Loss: 0.66145964\n",
      "Epoch 060, Loss: 0.66094137\n",
      "Epoch 070, Loss: 0.66068501\n",
      "Epoch 080, Loss: 0.66055777\n",
      "Epoch 090, Loss: 0.66049445\n",
      "Epoch 100, Loss: 0.66046286\n",
      "Epoch 200, Loss: 0.66043045\n",
      "Epoch 300, Loss: 0.66042932\n",
      "Epoch 400, Loss: 0.66042822\n",
      "Epoch 500, Loss: 0.66042711\n",
      "Epoch 600, Loss: 0.66042600\n",
      "Epoch 700, Loss: 0.66042487\n",
      "Epoch 800, Loss: 0.66042374\n",
      "Epoch 900, Loss: 0.66042260\n"
     ]
    },
    {
     "data": {
      "image/png": "[encoded data removed]",
      "text/plain": [
       "<Figure size 640x480 with 1 Axes>"
      ]
     },
     "metadata": {},
     "output_type": "display_data"
    },
    {
     "name": "stdout",
     "output_type": "stream",
     "text": [
      "Modelo guardado en '../output/models/model_weights.json'\n"
     ]
    }
   ],
   "source": [
    "import numpy as np\n",
    "import pandas as pd\n",
    "import matplotlib.pyplot as plt\n",
    "import json\n",
    "\n",
    "# Cargar datos\n",
    "train_data = pd.read_csv('../data/processed/train_set_normalized.csv')\n",
    "X_train = train_data.iloc[:, 1:].values\n",
    "y_train = train_data.iloc[:, 0].values\n",
    "\n",
    "# Funciones de activación y sus derivadas\n",
    "def sigmoid(x):\n",
    "    return 1 / (1 + np.exp(-x))\n",
    "\n",
    "def sigmoid_derivative(x):\n",
    "    return x * (1 - x)\n",
    "\n",
    "def softmax(x):\n",
    "    exp_x = np.exp(x - np.max(x, axis=1, keepdims=True))\n",
    "    return exp_x / np.sum(exp_x, axis=1, keepdims=True)\n",
    "\n",
    "# Inicialización de pesos\n",
    "def initialize_weights(input_dim, hidden_dim, output_dim):\n",
    "    W1 = np.random.randn(input_dim, hidden_dim) * 0.01\n",
    "    b1 = np.zeros((1, hidden_dim))\n",
    "    W2 = np.random.randn(hidden_dim, hidden_dim) * 0.01\n",
    "    b2 = np.zeros((1, hidden_dim))\n",
    "    W3 = np.random.randn(hidden_dim, output_dim) * 0.01\n",
    "    b3 = np.zeros((1, output_dim))\n",
    "    return W1, b1, W2, b2, W3, b3\n",
    "\n",
    "# Forward propagation\n",
    "def forward_propagation(X, W1, b1, W2, b2, W3, b3):\n",
    "    Z1 = np.dot(X, W1) + b1\n",
    "    A1 = sigmoid(Z1)\n",
    "    Z2 = np.dot(A1, W2) + b2\n",
    "    A2 = sigmoid(Z2)\n",
    "    Z3 = np.dot(A2, W3) + b3\n",
    "    A3 = softmax(Z3)\n",
    "    return Z1, A1, Z2, A2, Z3, A3\n",
    "\n",
    "# Backward propagation\n",
    "def backward_propagation(X, y, Z1, A1, Z2, A2, Z3, A3, W1, W2, W3):\n",
    "    m = X.shape[0]\n",
    "    one_hot_y = np.eye(2)[y.astype(int)]\n",
    "    \n",
    "    dZ3 = A3 - one_hot_y\n",
    "    dW3 = (1/m) * np.dot(A2.T, dZ3)\n",
    "    db3 = (1/m) * np.sum(dZ3, axis=0, keepdims=True)\n",
    "    \n",
    "    dZ2 = np.dot(dZ3, W3.T) * sigmoid_derivative(A2)\n",
    "    dW2 = (1/m) * np.dot(A1.T, dZ2)\n",
    "    db2 = (1/m) * np.sum(dZ2, axis=0, keepdims=True)\n",
    "    \n",
    "    dZ1 = np.dot(dZ2, W2.T) * sigmoid_derivative(A1)\n",
    "    dW1 = (1/m) * np.dot(X.T, dZ1)\n",
    "    db1 = (1/m) * np.sum(dZ1, axis=0, keepdims=True)\n",
    "    \n",
    "    return dW1, db1, dW2, db2, dW3, db3\n",
    "\n",
    "# Entrenamiento\n",
    "def train(X, y, hidden_dim, num_epochs, learning_rate):\n",
    "    input_dim = X.shape[1]\n",
    "    output_dim = 2  # Binario: maligno o benigno\n",
    "    \n",
    "    W1, b1, W2, b2, W3, b3 = initialize_weights(input_dim, hidden_dim, output_dim)\n",
    "    \n",
    "    losses = []\n",
    "    \n",
    "    for epoch in range(num_epochs):\n",
    "        Z1, A1, Z2, A2, Z3, A3 = forward_propagation(X, W1, b1, W2, b2, W3, b3)\n",
    "        \n",
    "        loss = -np.mean(np.log(A3[range(len(y)), y.astype(int)]))\n",
    "        losses.append(loss)\n",
    "        \n",
    "        dW1, db1, dW2, db2, dW3, db3 = backward_propagation(X, y, Z1, A1, Z2, A2, Z3, A3, W1, W2, W3)\n",
    "        \n",
    "        W1 -= learning_rate * dW1\n",
    "        b1 -= learning_rate * db1\n",
    "        W2 -= learning_rate * dW2\n",
    "        b2 -= learning_rate * db2\n",
    "        W3 -= learning_rate * dW3\n",
    "        b3 -= learning_rate * db3\n",
    "        \n",
    "        if epoch < 100 and epoch % 10 == 0:\n",
    "            print(f\"Epoch {epoch:03d}, Loss: {loss:.8f}\")\n",
    "        elif epoch >= 100 and epoch % 100 == 0:\n",
    "            print(f\"Epoch {epoch:03d}, Loss: {loss:.8f}\")\n",
    "\n",
    "    \n",
    "    return W1, b1, W2, b2, W3, b3, losses\n",
    "\n",
    "# Entrenamiento del modelo\n",
    "hidden_dim = 25\n",
    "num_epochs = 1000\n",
    "learning_rate = 0.01\n",
    "\n",
    "W1, b1, W2, b2, W3, b3, losses = train(X_train, y_train, hidden_dim, num_epochs, learning_rate)\n",
    "\n",
    "# Graficar la pérdida\n",
    "plt.plot(losses)\n",
    "plt.title('Pérdida durante el entrenamiento')\n",
    "plt.xlabel('Época')\n",
    "plt.ylabel('Pérdida')\n",
    "plt.show()\n",
    "\n",
    "# Guardar el modelo en formato JSON\n",
    "model_data = {\n",
    "    'W1': W1.tolist(),\n",
    "    'b1': b1.tolist(),\n",
    "    'W2': W2.tolist(),\n",
    "    'b2': b2.tolist(),\n",
    "    'W3': W3.tolist(),\n",
    "    'b3': b3.tolist()\n",
    "}\n",
    "\n",
    "with open('../output/models/model_weights.json', 'w') as f:\n",
    "    json.dump(model_data, f)\n",
    "\n",
    "print(\"Modelo guardado en '../output/models/model_weights.json'\")"
   ]
  },
  {
   "cell_type": "code",
   "execution_count": 2,
   "id": "fed92fb9-dd10-4c9a-a164-0e5c74e84336",
   "metadata": {},
   "outputs": [],
   "source": [
    "# Ejemplo de cómo cargar el modelo (se necesitará más adelante)\n",
    "# with open('../output/models/model_weights.json', 'r') as f:\n",
    "#     loaded_model = json.load(f)\n",
    "# \n",
    "# W1 = np.array(loaded_model['W1'])\n",
    "# b1 = np.array(loaded_model['b1'])\n",
    "# W2 = np.array(loaded_model['W2'])\n",
    "# b2 = np.array(loaded_model['b2'])\n",
    "# W3 = np.array(loaded_model['W3'])\n",
    "# b3 = np.array(loaded_model['b3'])"
   ]
  },
  {
   "cell_type": "markdown",
   "id": "1b33193d-140a-4191-9ba5-4fa2729799c0",
   "metadata": {},
   "source": [
    "## Accuracy"
   ]
  },
  {
   "cell_type": "code",
   "execution_count": 3,
   "id": "cb071bd2-0047-426d-bed8-9a080d26e6b2",
   "metadata": {},
   "outputs": [
    {
     "name": "stdout",
     "output_type": "stream",
     "text": [
      "Accuracy en el conjunto de entrenamiento: 0.6272\n"
     ]
    }
   ],
   "source": [
    "def predict(X, W1, b1, W2, b2, W3, b3):\n",
    "    _, _, _, _, _, A3 = forward_propagation(X, W1, b1, W2, b2, W3, b3)\n",
    "    return np.argmax(A3, axis=1)\n",
    "\n",
    "# Después del entrenamiento\n",
    "y_pred = predict(X_train, W1, b1, W2, b2, W3, b3)\n",
    "accuracy = np.mean(y_pred == y_train)\n",
    "print(f\"Accuracy en el conjunto de entrenamiento: {accuracy:.4f}\")"
   ]
  }
 ],
 "metadata": {
  "kernelspec": {
   "display_name": "Python 3 (ipykernel)",
   "language": "python",
   "name": "python3"
  },
  "language_info": {
   "codemirror_mode": {
    "name": "ipython",
    "version": 3
   },
   "file_extension": ".py",
   "mimetype": "text/x-python",
   "name": "python",
   "nbconvert_exporter": "python",
   "pygments_lexer": "ipython3",
   "version": "3.12.3"
  }
 },
 "nbformat": 4,
 "nbformat_minor": 5
}
