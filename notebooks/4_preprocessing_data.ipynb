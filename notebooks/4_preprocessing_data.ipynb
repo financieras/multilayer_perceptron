{
 "cells": [
  {
   "cell_type": "markdown",
   "id": "49f0b018-dbeb-4f78-a74d-f810c47866e9",
   "metadata": {},
   "source": [
    "# Preprocesamiento de datos\n",
    "Este notebook se encarga de:\n",
    "1. Cargar los datos limpios (no normalizados)\n",
    "2. Dividir el conjunto de datos en:\n",
    "   - Conjunto de entrenamiento (80%)\n",
    "   - Conjunto de prueba (20%)\n",
    "3. Normalizar los datos usando estadísticas SOLO del conjunto de entrenamiento\n",
    "4. Guardar los conjuntos normalizados y los parámetros de normalización\n",
    "\n",
    "- Recreamos la función 'train_test_split' de la librería 'sklearn' en el archivo 'utils/preprocessing_functions.py'.\n",
    "- Esta función permite dividir los datos en conjuntos: entrenamiento y prueba (train and test) de forma estratificada.\n",
    "- La estratificación permite asegurar que los conjuntos de entrenamiento y test tengan una proporción similar de pacientes con y sin cáncer."
   ]
  },
  {
   "cell_type": "code",
   "execution_count": 1,
   "id": "1da357bf-43aa-4176-ba2a-ef283422d040",
   "metadata": {},
   "outputs": [],
   "source": [
    "import numpy as np\n",
    "import pandas as pd\n",
    "import matplotlib.pyplot as plt\n",
    "import seaborn as sns\n",
    "import json\n",
    "import sys\n",
    "\n",
    "# Configura el estilo de visualización\n",
    "plt.style.use('ggplot')\n",
    "%matplotlib inline\n",
    "\n",
    "# Añadir el directorio raíz al path para poder importar módulos personalizados\n",
    "sys.path.append('..')\n",
    "from utils.config import FEATURE_NAMES, RANDOM_STATE, TEST_SIZE, STRATIFY\n",
    "from utils.preprocessing_functions import train_test_split"
   ]
  },
  {
   "cell_type": "markdown",
   "id": "37cc2a06-10f1-4aa4-8a38-f90453818e77",
   "metadata": {},
   "source": [
    "## 1. Carga de datos limpios (no normalizados)"
   ]
  },
  {
   "cell_type": "code",
   "execution_count": 2,
   "id": "77e9d160-1fc7-4b3a-9242-1db4fa6bc924",
   "metadata": {},
   "outputs": [
    {
     "name": "stdout",
     "output_type": "stream",
     "text": [
      "Cargando datos limpios (no normalizados)\n",
      "Dimensiones del dataset: (569, 31)\n",
      "Primeras 5 filas del dataset:\n"
     ]
    },
    {
     "data": {
      "text/html": [
       "<div>\n",
       "<style scoped>\n",
       "    .dataframe tbody tr th:only-of-type {\n",
       "        vertical-align: middle;\n",
       "    }\n",
       "\n",
       "    .dataframe tbody tr th {\n",
       "        vertical-align: top;\n",
       "    }\n",
       "\n",
       "    .dataframe thead th {\n",
       "        text-align: right;\n",
       "    }\n",
       "</style>\n",
       "<table border=\"1\" class=\"dataframe\">\n",
       "  <thead>\n",
       "    <tr style=\"text-align: right;\">\n",
       "      <th></th>\n",
       "      <th>diagnosis</th>\n",
       "      <th>f01</th>\n",
       "      <th>f02</th>\n",
       "      <th>f03</th>\n",
       "      <th>f04</th>\n",
       "      <th>f05</th>\n",
       "      <th>f06</th>\n",
       "      <th>f07</th>\n",
       "      <th>f08</th>\n",
       "      <th>f09</th>\n",
       "      <th>...</th>\n",
       "      <th>f21</th>\n",
       "      <th>f22</th>\n",
       "      <th>f23</th>\n",
       "      <th>f24</th>\n",
       "      <th>f25</th>\n",
       "      <th>f26</th>\n",
       "      <th>f27</th>\n",
       "      <th>f28</th>\n",
       "      <th>f29</th>\n",
       "      <th>f30</th>\n",
       "    </tr>\n",
       "  </thead>\n",
       "  <tbody>\n",
       "    <tr>\n",
       "      <th>0</th>\n",
       "      <td>1</td>\n",
       "      <td>17.99</td>\n",
       "      <td>10.38</td>\n",
       "      <td>122.80</td>\n",
       "      <td>1001.0</td>\n",
       "      <td>0.11840</td>\n",
       "      <td>0.27760</td>\n",
       "      <td>0.3001</td>\n",
       "      <td>0.14710</td>\n",
       "      <td>0.2419</td>\n",
       "      <td>...</td>\n",
       "      <td>25.38</td>\n",
       "      <td>17.33</td>\n",
       "      <td>184.60</td>\n",
       "      <td>2019.0</td>\n",
       "      <td>0.1622</td>\n",
       "      <td>0.6656</td>\n",
       "      <td>0.7119</td>\n",
       "      <td>0.2654</td>\n",
       "      <td>0.4601</td>\n",
       "      <td>0.11890</td>\n",
       "    </tr>\n",
       "    <tr>\n",
       "      <th>1</th>\n",
       "      <td>1</td>\n",
       "      <td>20.57</td>\n",
       "      <td>17.77</td>\n",
       "      <td>132.90</td>\n",
       "      <td>1326.0</td>\n",
       "      <td>0.08474</td>\n",
       "      <td>0.07864</td>\n",
       "      <td>0.0869</td>\n",
       "      <td>0.07017</td>\n",
       "      <td>0.1812</td>\n",
       "      <td>...</td>\n",
       "      <td>24.99</td>\n",
       "      <td>23.41</td>\n",
       "      <td>158.80</td>\n",
       "      <td>1956.0</td>\n",
       "      <td>0.1238</td>\n",
       "      <td>0.1866</td>\n",
       "      <td>0.2416</td>\n",
       "      <td>0.1860</td>\n",
       "      <td>0.2750</td>\n",
       "      <td>0.08902</td>\n",
       "    </tr>\n",
       "    <tr>\n",
       "      <th>2</th>\n",
       "      <td>1</td>\n",
       "      <td>19.69</td>\n",
       "      <td>21.25</td>\n",
       "      <td>130.00</td>\n",
       "      <td>1203.0</td>\n",
       "      <td>0.10960</td>\n",
       "      <td>0.15990</td>\n",
       "      <td>0.1974</td>\n",
       "      <td>0.12790</td>\n",
       "      <td>0.2069</td>\n",
       "      <td>...</td>\n",
       "      <td>23.57</td>\n",
       "      <td>25.53</td>\n",
       "      <td>152.50</td>\n",
       "      <td>1709.0</td>\n",
       "      <td>0.1444</td>\n",
       "      <td>0.4245</td>\n",
       "      <td>0.4504</td>\n",
       "      <td>0.2430</td>\n",
       "      <td>0.3613</td>\n",
       "      <td>0.08758</td>\n",
       "    </tr>\n",
       "    <tr>\n",
       "      <th>3</th>\n",
       "      <td>1</td>\n",
       "      <td>11.42</td>\n",
       "      <td>20.38</td>\n",
       "      <td>77.58</td>\n",
       "      <td>386.1</td>\n",
       "      <td>0.14250</td>\n",
       "      <td>0.28390</td>\n",
       "      <td>0.2414</td>\n",
       "      <td>0.10520</td>\n",
       "      <td>0.2597</td>\n",
       "      <td>...</td>\n",
       "      <td>14.91</td>\n",
       "      <td>26.50</td>\n",
       "      <td>98.87</td>\n",
       "      <td>567.7</td>\n",
       "      <td>0.2098</td>\n",
       "      <td>0.8663</td>\n",
       "      <td>0.6869</td>\n",
       "      <td>0.2575</td>\n",
       "      <td>0.6638</td>\n",
       "      <td>0.17300</td>\n",
       "    </tr>\n",
       "    <tr>\n",
       "      <th>4</th>\n",
       "      <td>1</td>\n",
       "      <td>20.29</td>\n",
       "      <td>14.34</td>\n",
       "      <td>135.10</td>\n",
       "      <td>1297.0</td>\n",
       "      <td>0.10030</td>\n",
       "      <td>0.13280</td>\n",
       "      <td>0.1980</td>\n",
       "      <td>0.10430</td>\n",
       "      <td>0.1809</td>\n",
       "      <td>...</td>\n",
       "      <td>22.54</td>\n",
       "      <td>16.67</td>\n",
       "      <td>152.20</td>\n",
       "      <td>1575.0</td>\n",
       "      <td>0.1374</td>\n",
       "      <td>0.2050</td>\n",
       "      <td>0.4000</td>\n",
       "      <td>0.1625</td>\n",
       "      <td>0.2364</td>\n",
       "      <td>0.07678</td>\n",
       "    </tr>\n",
       "  </tbody>\n",
       "</table>\n",
       "<p>5 rows × 31 columns</p>\n",
       "</div>"
      ],
      "text/plain": [
       "   diagnosis    f01    f02     f03     f04      f05      f06     f07      f08  \\\n",
       "0          1  17.99  10.38  122.80  1001.0  0.11840  0.27760  0.3001  0.14710   \n",
       "1          1  20.57  17.77  132.90  1326.0  0.08474  0.07864  0.0869  0.07017   \n",
       "2          1  19.69  21.25  130.00  1203.0  0.10960  0.15990  0.1974  0.12790   \n",
       "3          1  11.42  20.38   77.58   386.1  0.14250  0.28390  0.2414  0.10520   \n",
       "4          1  20.29  14.34  135.10  1297.0  0.10030  0.13280  0.1980  0.10430   \n",
       "\n",
       "      f09  ...    f21    f22     f23     f24     f25     f26     f27     f28  \\\n",
       "0  0.2419  ...  25.38  17.33  184.60  2019.0  0.1622  0.6656  0.7119  0.2654   \n",
       "1  0.1812  ...  24.99  23.41  158.80  1956.0  0.1238  0.1866  0.2416  0.1860   \n",
       "2  0.2069  ...  23.57  25.53  152.50  1709.0  0.1444  0.4245  0.4504  0.2430   \n",
       "3  0.2597  ...  14.91  26.50   98.87   567.7  0.2098  0.8663  0.6869  0.2575   \n",
       "4  0.1809  ...  22.54  16.67  152.20  1575.0  0.1374  0.2050  0.4000  0.1625   \n",
       "\n",
       "      f29      f30  \n",
       "0  0.4601  0.11890  \n",
       "1  0.2750  0.08902  \n",
       "2  0.3613  0.08758  \n",
       "3  0.6638  0.17300  \n",
       "4  0.2364  0.07678  \n",
       "\n",
       "[5 rows x 31 columns]"
      ]
     },
     "execution_count": 2,
     "metadata": {},
     "output_type": "execute_result"
    }
   ],
   "source": [
    "print(\"Cargando datos limpios (no normalizados)\")\n",
    "df = pd.read_csv('../data/processed/cleaned_data.csv')\n",
    "print(f\"Dimensiones del dataset: {df.shape}\")\n",
    "print(f\"Primeras 5 filas del dataset:\")\n",
    "df.head()"
   ]
  },
  {
   "cell_type": "markdown",
   "id": "1d5bc017-7af2-439f-9e11-a7a8fd7b5e21",
   "metadata": {},
   "source": [
    "## 2. Análisis rápido de los datos cargados"
   ]
  },
  {
   "cell_type": "code",
   "execution_count": 3,
   "id": "05cd6326-9e40-40fa-a642-635bbde464c3",
   "metadata": {},
   "outputs": [
    {
     "name": "stdout",
     "output_type": "stream",
     "text": [
      "Información del dataset:\n",
      "<class 'pandas.core.frame.DataFrame'>\n",
      "RangeIndex: 569 entries, 0 to 568\n",
      "Data columns (total 31 columns):\n",
      " #   Column     Non-Null Count  Dtype  \n",
      "---  ------     --------------  -----  \n",
      " 0   diagnosis  569 non-null    int64  \n",
      " 1   f01        569 non-null    float64\n",
      " 2   f02        569 non-null    float64\n",
      " 3   f03        569 non-null    float64\n",
      " 4   f04        569 non-null    float64\n",
      " 5   f05        569 non-null    float64\n",
      " 6   f06        569 non-null    float64\n",
      " 7   f07        569 non-null    float64\n",
      " 8   f08        569 non-null    float64\n",
      " 9   f09        569 non-null    float64\n",
      " 10  f10        569 non-null    float64\n",
      " 11  f11        569 non-null    float64\n",
      " 12  f12        569 non-null    float64\n",
      " 13  f13        569 non-null    float64\n",
      " 14  f14        569 non-null    float64\n",
      " 15  f15        569 non-null    float64\n",
      " 16  f16        569 non-null    float64\n",
      " 17  f17        569 non-null    float64\n",
      " 18  f18        569 non-null    float64\n",
      " 19  f19        569 non-null    float64\n",
      " 20  f20        569 non-null    float64\n",
      " 21  f21        569 non-null    float64\n",
      " 22  f22        569 non-null    float64\n",
      " 23  f23        569 non-null    float64\n",
      " 24  f24        569 non-null    float64\n",
      " 25  f25        569 non-null    float64\n",
      " 26  f26        569 non-null    float64\n",
      " 27  f27        569 non-null    float64\n",
      " 28  f28        569 non-null    float64\n",
      " 29  f29        569 non-null    float64\n",
      " 30  f30        569 non-null    float64\n",
      "dtypes: float64(30), int64(1)\n",
      "memory usage: 137.9 KB\n"
     ]
    }
   ],
   "source": [
    "print(\"Información del dataset:\")\n",
    "df.info()"
   ]
  },
  {
   "cell_type": "markdown",
   "id": "860a883a-5e88-4bd1-91d5-0c35d9ec4bb3",
   "metadata": {},
   "source": [
    "# 3. Dividir los datos en conjuntos de entrenamiento y test\n",
    "Los datos de prueba (test) los utiizaremos en la fase de predicción para evaluar la precisión del entrenamiento."
   ]
  },
  {
   "cell_type": "code",
   "execution_count": 4,
   "id": "bec43e34-8968-4609-b973-6a337da2545d",
   "metadata": {},
   "outputs": [
    {
     "name": "stdout",
     "output_type": "stream",
     "text": [
      "Dividiendo los datos en conjuntos de entrenamiento y prueba.\n",
      "Valor de stratify en la función: True\n",
      "Utilizando estratificación para mantener la proporción de clases\n",
      "Tamaño de entrenamiento: 456 muestras (80% del total)\n",
      "Tamaño de test:\t\t 113 muestras (20% del total)\n",
      "\n",
      "Distribución de clases en cada conjunto:\n",
      "Entrenamiento:  {0: 286, 1: 170}\n",
      "Prueba: \t{0: 71, 1: 42}\n"
     ]
    },
    {
     "data": {
      "image/png": "[encoded data removed]",
      "text/plain": [
       "<Figure size 800x500 with 1 Axes>"
      ]
     },
     "metadata": {},
     "output_type": "display_data"
    }
   ],
   "source": [
    "print(\"Dividiendo los datos en conjuntos de entrenamiento y prueba.\")\n",
    "\n",
    "# Separar características (X) y etiquetas (y)\n",
    "X = df.drop('diagnosis', axis=1)    # todas las columnas salvo 'diagnosis'\n",
    "y = df['diagnosis']                 # la variable dependiente es 'diagnosis'\n",
    "\n",
    "# División: 80% para entrenamiento, 20% para prueba\n",
    "X_train, X_test, y_train, y_test = train_test_split(X, y, test_size=TEST_SIZE, \n",
    "                                                  random_state=RANDOM_STATE, \n",
    "                                                  stratify=STRATIFY)\n",
    "\n",
    "print(f\"Tamaño de entrenamiento: {len(X_train)} muestras ({len(X_train)/len(df):.0%} del total)\")\n",
    "print(f\"Tamaño de test:\\t\\t {len(X_test)} muestras ({len(X_test)/len(df):.0%} del total)\")\n",
    "\n",
    "# Verificar la distribución de clases en cada conjunto\n",
    "print(\"\\nDistribución de clases en cada conjunto:\")\n",
    "print(f\"Entrenamiento:  {y_train.value_counts().to_dict()}\")\n",
    "print(f\"Prueba: \\t{y_test.value_counts().to_dict()}\")\n",
    "\n",
    "# Gráfico de distribución de clases por conjunto\n",
    "# Crear un DataFrame largo para usar con seaborn\n",
    "class_dist = []\n",
    "for label, count in y_train.value_counts().items():\n",
    "    class_dist.append({'Diagnóstico': label, 'Conjunto': 'Entrenamiento', 'Cantidad': count})\n",
    "for label, count in y_test.value_counts().items():\n",
    "    class_dist.append({'Diagnóstico': label, 'Conjunto': 'Prueba', 'Cantidad': count})\n",
    "class_dist_df = pd.DataFrame(class_dist)\n",
    "\n",
    "plt.figure(figsize=(8, 5))\n",
    "sns.barplot(data=class_dist_df, x='Diagnóstico', y='Cantidad', hue='Conjunto', palette='Set2')\n",
    "plt.title('Distribución de Clases por Conjunto')\n",
    "plt.xlabel('Diagnóstico (0=Benigno, 1=Maligno)')\n",
    "plt.ylabel('Cantidad')\n",
    "plt.tight_layout()\n",
    "plt.savefig('../output/figures/class_distribution_by_set.png', dpi=300, bbox_inches='tight')\n",
    "plt.show()"
   ]
  },
  {
   "cell_type": "markdown",
   "id": "e024d975-e653-4c18-baa7-c7a6faefbf8c",
   "metadata": {},
   "source": [
    "## 4. Normalización de datos (Z-score)\n",
    "La normalización:\n",
    "- ayuda a que el algoritmo de aprendizaje converja más rápido y\n",
    "- evita que algunas características dominen el proceso de entrenamiento debido a diferencias de escala"
   ]
  },
  {
   "cell_type": "code",
   "execution_count": 5,
   "id": "54bf20e4-6f8e-4b06-8d26-c2b1b917a14e",
   "metadata": {},
   "outputs": [
    {
     "name": "stdout",
     "output_type": "stream",
     "text": [
      "Normalizando datos con Z-score usando SOLO estadísticas del conjunto de entrenamiento.\n",
      "Guardados parámetros de normalización en ../output/normalization_params.json\n"
     ]
    }
   ],
   "source": [
    "print(\"Normalizando datos con Z-score usando SOLO estadísticas del conjunto de entrenamiento.\")\n",
    "\n",
    "# Calcular estadísticas SOLO con los datos de entrenamiento\n",
    "mean_train = X_train.mean()\n",
    "std_train = X_train.std()\n",
    "\n",
    "# Aplicar normalización Z-score\n",
    "# Fórmula: X_normalizado = (X - media) / desviación_estándar\n",
    "X_train_norm = (X_train - mean_train) / std_train\n",
    "X_test_norm = (X_test - mean_train) / std_train\n",
    "\n",
    "# Guardar parámetros de normalización para uso futuro\n",
    "normalization_params = {\n",
    "    'means': mean_train.to_dict(),\n",
    "    'stds': std_train.to_dict()\n",
    "}\n",
    "\n",
    "with open('../output/normalization_params.json', 'w') as f:\n",
    "    json.dump(normalization_params, f, indent=4)\n",
    "print(f\"Guardados parámetros de normalización en ../output/normalization_params.json\")"
   ]
  },
  {
   "cell_type": "markdown",
   "id": "e09e738f-424b-438d-adc9-169e734eeb52",
   "metadata": {},
   "source": [
    "## 5. Guardar los conjuntos de datos procesados"
   ]
  },
  {
   "cell_type": "code",
   "execution_count": 6,
   "id": "eaef0f81-1c6f-49f0-9c0b-a668be657e2f",
   "metadata": {},
   "outputs": [
    {
     "name": "stdout",
     "output_type": "stream",
     "text": [
      "Guardando conjuntos de datos procesados.\n",
      "Datos guardados en CSV siendo la primera columna 'diagnosis'\n"
     ]
    }
   ],
   "source": [
    "print(\"Guardando conjuntos de datos procesados.\")\n",
    "X_train_norm.insert(0, 'diagnosis', y_train)\n",
    "X_test_norm.insert(0, 'diagnosis', y_test)\n",
    "X_train_norm.to_csv('../data/processed/train_set_normalized.csv', index=False)\n",
    "X_test_norm.to_csv('../data/processed/test_set_normalized.csv', index=False)\n",
    "print(\"Datos guardados en CSV siendo la primera columna 'diagnosis'\")"
   ]
  },
  {
   "cell_type": "markdown",
   "id": "77e4511c-69bb-4f66-93c1-5b5f0c370dd2",
   "metadata": {},
   "source": [
    "# 6. Verificación de distribuciones normalizadas"
   ]
  },
  {
   "cell_type": "code",
   "execution_count": 7,
   "id": "f5bd4eb6-d5e8-4621-91e4-4f3548ba35c8",
   "metadata": {},
   "outputs": [
    {
     "name": "stdout",
     "output_type": "stream",
     "text": [
      "Verificando distribuciones normalizadas.\n"
     ]
    },
    {
     "data": {
      "image/png": "[encoded data removed]",
      "text/plain": [
       "<Figure size 600x400 with 1 Axes>"
      ]
     },
     "metadata": {},
     "output_type": "display_data"
    }
   ],
   "source": [
    "print(\"Verificando distribuciones normalizadas.\")\n",
    "plt.figure(figsize=(6, 4))\n",
    "sns.kdeplot(X_train_norm['f01'], label='Entrenamiento', color='blue')\n",
    "sns.kdeplot(X_test_norm['f01'], label='Prueba', color='red')\n",
    "plt.title('Distribución de mean radius normalizado')\n",
    "plt.xlabel('Valor normalizado')\n",
    "plt.ylabel('Densidad')\n",
    "plt.legend()\n",
    "plt.savefig('../output/figures/feature_distribution_f01.png', dpi=300)\n",
    "plt.show()"
   ]
  },
  {
   "cell_type": "markdown",
   "id": "58ecc2c7-6c1b-491e-98e3-8c667b82e908",
   "metadata": {},
   "source": [
    "## 7. Resumen\n",
    "Normalización:\n",
    "- Método: Z-score manual (X - media) / desviación estándar\n",
    "- Estadísticas calculadas SOLO con datos de entrenamiento\n",
    "- Mismos parámetros aplicados al conjunto de prueba\n",
    "- Los parámetros de normalización se guardan para uso futuro en la fase de predicción\n",
    "\n",
    "Archivos generados:\n",
    "- 'data/processed/train_set_normalized.csv'\n",
    "- 'data/processed/test_set_normalized.csv'\n",
    "- 'output/normalization_params.json'"
   ]
  },
  {
   "cell_type": "code",
   "execution_count": 11,
   "id": "b5bcd850-5e4f-49e5-b918-029809d0b4d1",
   "metadata": {},
   "outputs": [
    {
     "name": "stdout",
     "output_type": "stream",
     "text": [
      "Dataset original: 569 muestras, 31 características\n",
      "\n",
      "División de datos:\n",
      "- Entrenamiento: 456 muestras (80%)\n",
      "- Prueba:\t 113 muestras (20%)\n"
     ]
    }
   ],
   "source": [
    "print(f\"Dataset original: {len(df)} muestras, {df.shape[1]} características\")\n",
    "print(\"\\nDivisión de datos:\")\n",
    "print(f\"- Entrenamiento: {len(X_train)} muestras ({len(X_train)/len(df):.0%})\")\n",
    "print(f\"- Prueba:\\t {len(X_test)} muestras ({len(X_test)/len(df):.0%})\")"
   ]
  }
 ],
 "metadata": {
  "kernelspec": {
   "display_name": "Python 3 (ipykernel)",
   "language": "python",
   "name": "python3"
  },
  "language_info": {
   "codemirror_mode": {
    "name": "ipython",
    "version": 3
   },
   "file_extension": ".py",
   "mimetype": "text/x-python",
   "name": "python",
   "nbconvert_exporter": "python",
   "pygments_lexer": "ipython3",
   "version": "3.10.6"
  }
 },
 "nbformat": 4,
 "nbformat_minor": 5
}
