{
 "cells": [
  {
   "cell_type": "markdown",
   "id": "a4736d08-691c-402d-9954-e934a6fa777e",
   "metadata": {},
   "source": [
    "# Entrenamiento del Modelo - Perceptrón Multicapa\n",
    "\n",
    "En este notebook implementaremos un perceptrón multicapa para clasificación binaria utilizando el conjunto de datos de cáncer de mama de Wisconsin (WBCD).\n",
    "\n",
    "Implementaremos las siguientes funcionalidades:\n",
    "- Capas densas con diferentes activaciones\n",
    "- Inicialización de pesos\n",
    "- Forward pass\n",
    "- Backpropagation\n",
    "- Descenso del gradiente\n",
    "- Función de pérdida (binary crossentropy)\n",
    "- Entrenamiento del modelo"
   ]
  },
  {
   "cell_type": "markdown",
   "id": "c1a4fa39-789e-4551-833b-a5a620aa72d1",
   "metadata": {},
   "source": [
    "## Importación de librerías"
   ]
  },
  {
   "cell_type": "code",
   "execution_count": 1,
   "id": "cbc3389d-8180-42d4-b47a-3a5a659526b7",
   "metadata": {},
   "outputs": [],
   "source": [
    "import numpy as np\n",
    "import pandas as pd\n",
    "import matplotlib.pyplot as plt\n",
    "import json\n",
    "import time\n",
    "import sys\n",
    "import os\n",
    "\n",
    "# Añadir el directorio raíz al PATH para poder importar los módulos de utils\n",
    "sys.path.append(os.path.abspath('../'))\n",
    "\n",
    "# Importar funciones de la red neuronal\n",
    "from utils.neural_network_functions import create_network"
   ]
  },
  {
   "cell_type": "code",
   "execution_count": 2,
   "id": "afb2d83d-4816-474c-af34-582f93694051",
   "metadata": {},
   "outputs": [],
   "source": [
    "# Importar los hiperparámetros desde config.py\n",
    "from utils.config import HIDDEN_LAYERS, LEARNING_RATE, EPOCHS, BATCH_SIZE, RANDOM_STATE, LR_DECAY"
   ]
  },
  {
   "cell_type": "markdown",
   "id": "caa6424a-4df2-456e-939b-5cd30a9f2931",
   "metadata": {},
   "source": [
    "## Cargar los datos de entrenamiento y validación"
   ]
  },
  {
   "cell_type": "code",
   "execution_count": 3,
   "id": "22526338-b538-4873-87e1-9969ee110f16",
   "metadata": {},
   "outputs": [
    {
     "name": "stdout",
     "output_type": "stream",
     "text": [
      "X_train shape: (456, 30)\n",
      "y_train shape: (456, 1)\n",
      "X_valid shape: (113, 30)\n",
      "y_valid shape: (113, 1)\n"
     ]
    }
   ],
   "source": [
    "# Cargar datos de entrenamiento y validación\n",
    "train_data = pd.read_csv('../data/processed/train_set_normalized.csv')\n",
    "validation_data = pd.read_csv('../data/processed/test_set_normalized.csv')\n",
    "\n",
    "# Separar características y etiquetas\n",
    "X_train = train_data.iloc[:, 1:].values  # Todas las columnas excepto la primera (diagnosis)\n",
    "y_train = train_data.iloc[:, 0].values.reshape(-1, 1)  # Primera columna (diagnosis)\n",
    "\n",
    "X_valid = validation_data.iloc[:, 1:].values\n",
    "y_valid = validation_data.iloc[:, 0].values.reshape(-1, 1)\n",
    "\n",
    "# Imprimir formas de los conjuntos de datos\n",
    "print(f\"X_train shape: {X_train.shape}\")\n",
    "print(f\"y_train shape: {y_train.shape}\")\n",
    "print(f\"X_valid shape: {X_valid.shape}\")\n",
    "print(f\"y_valid shape: {y_valid.shape}\")"
   ]
  },
  {
   "cell_type": "markdown",
   "id": "35efdd08-8e9d-4bab-a0e3-e73857aed070",
   "metadata": {},
   "source": [
    "## Verificar la normalización correcta de los datos"
   ]
  },
  {
   "cell_type": "code",
   "execution_count": 4,
   "id": "de69c5dd-4d9d-478e-b0ef-443dfd815cdb",
   "metadata": {},
   "outputs": [
    {
     "name": "stdout",
     "output_type": "stream",
     "text": [
      "X_train media: -0.000, std:  1.00, min: -3.2, max: 12.0\n",
      "X_valid media:  0.048, std:  1.08, min: -2.4, max:  11.6\n"
     ]
    }
   ],
   "source": [
    "# Verificar estadísticas de los datos\n",
    "print(f\"X_train media: {np.mean(X_train):.3f}, std:  {np.std(X_train):.2f}, min: {np.min(X_train):.1f}, max: {np.max(X_train):.1f}\")\n",
    "print(f\"X_valid media:  {np.mean(X_valid):.3f}, std:  {np.std(X_valid):.2f}, min: {np.min(X_valid):.1f}, max:  {np.max(X_valid):.1f}\")"
   ]
  },
  {
   "cell_type": "markdown",
   "id": "9834c365-60f1-4fc4-9cd4-8e71ba48289c",
   "metadata": {},
   "source": [
    "## Entrenar el modelo"
   ]
  },
  {
   "cell_type": "code",
   "execution_count": 5,
   "id": "9a24c0ff-ba43-444b-9b8c-7e1b898d757f",
   "metadata": {},
   "outputs": [
    {
     "name": "stdout",
     "output_type": "stream",
     "text": [
      "Iniciando entrenamiento con 1000 épocas, batch_size=8, learning_rate=0.01\n",
      "epoch 01/1000 - loss: 0.6454 - acc: 0.6382 - val_loss: 0.6709 - val_acc: 0.5841\n",
      "Tasa de aprendizaje ajustada a: 0.009500\n",
      "epoch 11/1000 - loss: 0.6221 - acc: 0.6382 - val_loss: 0.6510 - val_acc: 0.5841\n",
      "Tasa de aprendizaje ajustada a: 0.009025\n",
      "epoch 21/1000 - loss: 0.6007 - acc: 0.6382 - val_loss: 0.6275 - val_acc: 0.5841\n",
      "Tasa de aprendizaje ajustada a: 0.008574\n",
      "epoch 31/1000 - loss: 0.5785 - acc: 0.6404 - val_loss: 0.6028 - val_acc: 0.5841\n",
      "Tasa de aprendizaje ajustada a: 0.008145\n",
      "epoch 41/1000 - loss: 0.5551 - acc: 0.6908 - val_loss: 0.5765 - val_acc: 0.6195\n",
      "Tasa de aprendizaje ajustada a: 0.007738\n",
      "epoch 51/1000 - loss: 0.5305 - acc: 0.7566 - val_loss: 0.5491 - val_acc: 0.7168\n",
      "Tasa de aprendizaje ajustada a: 0.007351\n",
      "epoch 61/1000 - loss: 0.5051 - acc: 0.8158 - val_loss: 0.5210 - val_acc: 0.7699\n",
      "Tasa de aprendizaje ajustada a: 0.006983\n",
      "epoch 71/1000 - loss: 0.4793 - acc: 0.8487 - val_loss: 0.4929 - val_acc: 0.7876\n",
      "Tasa de aprendizaje ajustada a: 0.006634\n",
      "epoch 81/1000 - loss: 0.4544 - acc: 0.8750 - val_loss: 0.4655 - val_acc: 0.8496\n",
      "Tasa de aprendizaje ajustada a: 0.006302\n",
      "epoch 91/1000 - loss: 0.4308 - acc: 0.8969 - val_loss: 0.4394 - val_acc: 0.8850\n",
      "Tasa de aprendizaje ajustada a: 0.005987\n",
      "epoch 101/1000 - loss: 0.4087 - acc: 0.9232 - val_loss: 0.4151 - val_acc: 0.8938\n",
      "Tasa de aprendizaje ajustada a: 0.005688\n",
      "epoch 111/1000 - loss: 0.3886 - acc: 0.9298 - val_loss: 0.3929 - val_acc: 0.9027\n",
      "Tasa de aprendizaje ajustada a: 0.005404\n",
      "epoch 121/1000 - loss: 0.3702 - acc: 0.9320 - val_loss: 0.3728 - val_acc: 0.9115\n",
      "Tasa de aprendizaje ajustada a: 0.005133\n",
      "epoch 131/1000 - loss: 0.3540 - acc: 0.9386 - val_loss: 0.3548 - val_acc: 0.9292\n",
      "Tasa de aprendizaje ajustada a: 0.004877\n",
      "epoch 141/1000 - loss: 0.3395 - acc: 0.9408 - val_loss: 0.3387 - val_acc: 0.9292\n",
      "Tasa de aprendizaje ajustada a: 0.004633\n",
      "epoch 151/1000 - loss: 0.3265 - acc: 0.9430 - val_loss: 0.3243 - val_acc: 0.9469\n",
      "Tasa de aprendizaje ajustada a: 0.004401\n",
      "epoch 161/1000 - loss: 0.3151 - acc: 0.9430 - val_loss: 0.3116 - val_acc: 0.9469\n",
      "Tasa de aprendizaje ajustada a: 0.004181\n",
      "epoch 171/1000 - loss: 0.3049 - acc: 0.9408 - val_loss: 0.3002 - val_acc: 0.9558\n",
      "Tasa de aprendizaje ajustada a: 0.003972\n",
      "epoch 181/1000 - loss: 0.2959 - acc: 0.9452 - val_loss: 0.2901 - val_acc: 0.9646\n",
      "Tasa de aprendizaje ajustada a: 0.003774\n",
      "epoch 191/1000 - loss: 0.2878 - acc: 0.9452 - val_loss: 0.2810 - val_acc: 0.9735\n",
      "Tasa de aprendizaje ajustada a: 0.003585\n",
      "epoch 201/1000 - loss: 0.2805 - acc: 0.9452 - val_loss: 0.2728 - val_acc: 0.9735\n",
      "Tasa de aprendizaje ajustada a: 0.003406\n",
      "epoch 211/1000 - loss: 0.2740 - acc: 0.9474 - val_loss: 0.2655 - val_acc: 0.9735\n",
      "Tasa de aprendizaje ajustada a: 0.003235\n",
      "epoch 221/1000 - loss: 0.2681 - acc: 0.9496 - val_loss: 0.2589 - val_acc: 0.9735\n",
      "Tasa de aprendizaje ajustada a: 0.003074\n",
      "epoch 231/1000 - loss: 0.2628 - acc: 0.9496 - val_loss: 0.2529 - val_acc: 0.9735\n",
      "Tasa de aprendizaje ajustada a: 0.002920\n",
      "epoch 241/1000 - loss: 0.2580 - acc: 0.9496 - val_loss: 0.2475 - val_acc: 0.9735\n",
      "Tasa de aprendizaje ajustada a: 0.002774\n",
      "epoch 251/1000 - loss: 0.2536 - acc: 0.9496 - val_loss: 0.2425 - val_acc: 0.9735\n",
      "Tasa de aprendizaje ajustada a: 0.002635\n",
      "epoch 261/1000 - loss: 0.2497 - acc: 0.9496 - val_loss: 0.2380 - val_acc: 0.9735\n",
      "Tasa de aprendizaje ajustada a: 0.002503\n",
      "epoch 271/1000 - loss: 0.2460 - acc: 0.9518 - val_loss: 0.2339 - val_acc: 0.9823\n",
      "Tasa de aprendizaje ajustada a: 0.002378\n",
      "epoch 281/1000 - loss: 0.2427 - acc: 0.9518 - val_loss: 0.2301 - val_acc: 0.9823\n",
      "Tasa de aprendizaje ajustada a: 0.002259\n",
      "epoch 291/1000 - loss: 0.2396 - acc: 0.9518 - val_loss: 0.2267 - val_acc: 0.9912\n",
      "Tasa de aprendizaje ajustada a: 0.002146\n",
      "epoch 301/1000 - loss: 0.2368 - acc: 0.9539 - val_loss: 0.2235 - val_acc: 0.9912\n",
      "Tasa de aprendizaje ajustada a: 0.002039\n",
      "epoch 311/1000 - loss: 0.2342 - acc: 0.9539 - val_loss: 0.2205 - val_acc: 0.9912\n",
      "Tasa de aprendizaje ajustada a: 0.001937\n",
      "epoch 321/1000 - loss: 0.2318 - acc: 0.9539 - val_loss: 0.2178 - val_acc: 0.9912\n",
      "Tasa de aprendizaje ajustada a: 0.001840\n",
      "epoch 331/1000 - loss: 0.2296 - acc: 0.9539 - val_loss: 0.2153 - val_acc: 0.9912\n",
      "Tasa de aprendizaje ajustada a: 0.001748\n",
      "epoch 341/1000 - loss: 0.2275 - acc: 0.9539 - val_loss: 0.2130 - val_acc: 0.9912\n",
      "Tasa de aprendizaje ajustada a: 0.001661\n",
      "epoch 351/1000 - loss: 0.2256 - acc: 0.9561 - val_loss: 0.2108 - val_acc: 0.9912\n",
      "Tasa de aprendizaje ajustada a: 0.001578\n",
      "epoch 361/1000 - loss: 0.2238 - acc: 0.9561 - val_loss: 0.2088 - val_acc: 0.9912\n",
      "Tasa de aprendizaje ajustada a: 0.001499\n",
      "epoch 371/1000 - loss: 0.2222 - acc: 0.9561 - val_loss: 0.2069 - val_acc: 0.9912\n",
      "Tasa de aprendizaje ajustada a: 0.001424\n",
      "epoch 381/1000 - loss: 0.2207 - acc: 0.9561 - val_loss: 0.2052 - val_acc: 0.9912\n",
      "Tasa de aprendizaje ajustada a: 0.001353\n",
      "epoch 391/1000 - loss: 0.2192 - acc: 0.9561 - val_loss: 0.2035 - val_acc: 0.9912\n",
      "Tasa de aprendizaje ajustada a: 0.001285\n",
      "epoch 401/1000 - loss: 0.2179 - acc: 0.9561 - val_loss: 0.2020 - val_acc: 0.9912\n",
      "Tasa de aprendizaje ajustada a: 0.001221\n",
      "epoch 411/1000 - loss: 0.2166 - acc: 0.9583 - val_loss: 0.2006 - val_acc: 0.9912\n",
      "Tasa de aprendizaje ajustada a: 0.001160\n",
      "epoch 421/1000 - loss: 0.2155 - acc: 0.9583 - val_loss: 0.1993 - val_acc: 1.0000\n",
      "Tasa de aprendizaje ajustada a: 0.001102\n",
      "epoch 431/1000 - loss: 0.2144 - acc: 0.9583 - val_loss: 0.1980 - val_acc: 1.0000\n",
      "Tasa de aprendizaje ajustada a: 0.001047\n",
      "epoch 441/1000 - loss: 0.2134 - acc: 0.9583 - val_loss: 0.1969 - val_acc: 1.0000\n",
      "Tasa de aprendizaje ajustada a: 0.000994\n",
      "epoch 451/1000 - loss: 0.2124 - acc: 0.9583 - val_loss: 0.1958 - val_acc: 1.0000\n",
      "Tasa de aprendizaje ajustada a: 0.000945\n",
      "epoch 461/1000 - loss: 0.2115 - acc: 0.9583 - val_loss: 0.1947 - val_acc: 1.0000\n",
      "Tasa de aprendizaje ajustada a: 0.000897\n",
      "epoch 471/1000 - loss: 0.2106 - acc: 0.9583 - val_loss: 0.1938 - val_acc: 1.0000\n",
      "Tasa de aprendizaje ajustada a: 0.000853\n",
      "epoch 481/1000 - loss: 0.2098 - acc: 0.9583 - val_loss: 0.1929 - val_acc: 1.0000\n",
      "Tasa de aprendizaje ajustada a: 0.000810\n",
      "epoch 491/1000 - loss: 0.2091 - acc: 0.9583 - val_loss: 0.1920 - val_acc: 1.0000\n",
      "Tasa de aprendizaje ajustada a: 0.000769\n",
      "epoch 501/1000 - loss: 0.2084 - acc: 0.9561 - val_loss: 0.1912 - val_acc: 1.0000\n",
      "Tasa de aprendizaje ajustada a: 0.000731\n",
      "epoch 511/1000 - loss: 0.2077 - acc: 0.9561 - val_loss: 0.1905 - val_acc: 1.0000\n",
      "Tasa de aprendizaje ajustada a: 0.000694\n",
      "epoch 521/1000 - loss: 0.2071 - acc: 0.9561 - val_loss: 0.1898 - val_acc: 1.0000\n",
      "Tasa de aprendizaje ajustada a: 0.000660\n",
      "epoch 531/1000 - loss: 0.2065 - acc: 0.9583 - val_loss: 0.1891 - val_acc: 1.0000\n",
      "Tasa de aprendizaje ajustada a: 0.000627\n",
      "epoch 541/1000 - loss: 0.2060 - acc: 0.9583 - val_loss: 0.1885 - val_acc: 1.0000\n",
      "Tasa de aprendizaje ajustada a: 0.000595\n",
      "epoch 551/1000 - loss: 0.2054 - acc: 0.9583 - val_loss: 0.1879 - val_acc: 1.0000\n",
      "Tasa de aprendizaje ajustada a: 0.000566\n",
      "epoch 561/1000 - loss: 0.2049 - acc: 0.9583 - val_loss: 0.1873 - val_acc: 1.0000\n",
      "Tasa de aprendizaje ajustada a: 0.000537\n",
      "epoch 571/1000 - loss: 0.2045 - acc: 0.9583 - val_loss: 0.1868 - val_acc: 1.0000\n",
      "Tasa de aprendizaje ajustada a: 0.000510\n",
      "epoch 581/1000 - loss: 0.2040 - acc: 0.9583 - val_loss: 0.1863 - val_acc: 1.0000\n",
      "Tasa de aprendizaje ajustada a: 0.000485\n",
      "epoch 591/1000 - loss: 0.2036 - acc: 0.9583 - val_loss: 0.1858 - val_acc: 1.0000\n",
      "Tasa de aprendizaje ajustada a: 0.000461\n",
      "epoch 601/1000 - loss: 0.2032 - acc: 0.9583 - val_loss: 0.1854 - val_acc: 1.0000\n",
      "Tasa de aprendizaje ajustada a: 0.000438\n",
      "epoch 611/1000 - loss: 0.2029 - acc: 0.9583 - val_loss: 0.1850 - val_acc: 1.0000\n",
      "Tasa de aprendizaje ajustada a: 0.000416\n",
      "epoch 621/1000 - loss: 0.2025 - acc: 0.9583 - val_loss: 0.1846 - val_acc: 1.0000\n",
      "Tasa de aprendizaje ajustada a: 0.000395\n",
      "epoch 631/1000 - loss: 0.2022 - acc: 0.9583 - val_loss: 0.1842 - val_acc: 1.0000\n",
      "Tasa de aprendizaje ajustada a: 0.000375\n",
      "epoch 641/1000 - loss: 0.2019 - acc: 0.9605 - val_loss: 0.1838 - val_acc: 1.0000\n",
      "Tasa de aprendizaje ajustada a: 0.000356\n",
      "epoch 651/1000 - loss: 0.2016 - acc: 0.9605 - val_loss: 0.1835 - val_acc: 1.0000\n",
      "Tasa de aprendizaje ajustada a: 0.000339\n",
      "epoch 661/1000 - loss: 0.2013 - acc: 0.9605 - val_loss: 0.1832 - val_acc: 1.0000\n",
      "Tasa de aprendizaje ajustada a: 0.000322\n",
      "epoch 671/1000 - loss: 0.2010 - acc: 0.9605 - val_loss: 0.1829 - val_acc: 1.0000\n",
      "Tasa de aprendizaje ajustada a: 0.000306\n",
      "epoch 681/1000 - loss: 0.2008 - acc: 0.9605 - val_loss: 0.1826 - val_acc: 1.0000\n",
      "Tasa de aprendizaje ajustada a: 0.000290\n",
      "epoch 691/1000 - loss: 0.2005 - acc: 0.9605 - val_loss: 0.1823 - val_acc: 1.0000\n",
      "Tasa de aprendizaje ajustada a: 0.000276\n",
      "epoch 701/1000 - loss: 0.2003 - acc: 0.9605 - val_loss: 0.1821 - val_acc: 1.0000\n",
      "Tasa de aprendizaje ajustada a: 0.000262\n",
      "epoch 711/1000 - loss: 0.2001 - acc: 0.9605 - val_loss: 0.1818 - val_acc: 1.0000\n",
      "Tasa de aprendizaje ajustada a: 0.000249\n",
      "epoch 721/1000 - loss: 0.1999 - acc: 0.9605 - val_loss: 0.1816 - val_acc: 1.0000\n",
      "Tasa de aprendizaje ajustada a: 0.000236\n",
      "epoch 731/1000 - loss: 0.1997 - acc: 0.9605 - val_loss: 0.1814 - val_acc: 1.0000\n",
      "Tasa de aprendizaje ajustada a: 0.000225\n",
      "epoch 741/1000 - loss: 0.1995 - acc: 0.9605 - val_loss: 0.1812 - val_acc: 1.0000\n",
      "Tasa de aprendizaje ajustada a: 0.000213\n",
      "epoch 751/1000 - loss: 0.1993 - acc: 0.9605 - val_loss: 0.1810 - val_acc: 1.0000\n",
      "Tasa de aprendizaje ajustada a: 0.000203\n",
      "epoch 761/1000 - loss: 0.1992 - acc: 0.9605 - val_loss: 0.1808 - val_acc: 1.0000\n",
      "Tasa de aprendizaje ajustada a: 0.000193\n",
      "epoch 771/1000 - loss: 0.1990 - acc: 0.9605 - val_loss: 0.1806 - val_acc: 1.0000\n",
      "Tasa de aprendizaje ajustada a: 0.000183\n",
      "epoch 781/1000 - loss: 0.1989 - acc: 0.9605 - val_loss: 0.1805 - val_acc: 1.0000\n",
      "Tasa de aprendizaje ajustada a: 0.000174\n",
      "epoch 791/1000 - loss: 0.1987 - acc: 0.9605 - val_loss: 0.1803 - val_acc: 1.0000\n",
      "Tasa de aprendizaje ajustada a: 0.000165\n",
      "epoch 801/1000 - loss: 0.1986 - acc: 0.9605 - val_loss: 0.1801 - val_acc: 1.0000\n",
      "Tasa de aprendizaje ajustada a: 0.000157\n",
      "epoch 811/1000 - loss: 0.1985 - acc: 0.9605 - val_loss: 0.1800 - val_acc: 1.0000\n",
      "Tasa de aprendizaje ajustada a: 0.000149\n",
      "epoch 821/1000 - loss: 0.1984 - acc: 0.9605 - val_loss: 0.1799 - val_acc: 1.0000\n",
      "Tasa de aprendizaje ajustada a: 0.000142\n",
      "epoch 831/1000 - loss: 0.1983 - acc: 0.9605 - val_loss: 0.1797 - val_acc: 1.0000\n",
      "Tasa de aprendizaje ajustada a: 0.000135\n",
      "epoch 841/1000 - loss: 0.1982 - acc: 0.9605 - val_loss: 0.1796 - val_acc: 1.0000\n",
      "Tasa de aprendizaje ajustada a: 0.000128\n",
      "epoch 851/1000 - loss: 0.1981 - acc: 0.9605 - val_loss: 0.1795 - val_acc: 1.0000\n",
      "Tasa de aprendizaje ajustada a: 0.000121\n",
      "epoch 861/1000 - loss: 0.1980 - acc: 0.9605 - val_loss: 0.1794 - val_acc: 1.0000\n",
      "Tasa de aprendizaje ajustada a: 0.000115\n",
      "epoch 871/1000 - loss: 0.1979 - acc: 0.9605 - val_loss: 0.1793 - val_acc: 1.0000\n",
      "Tasa de aprendizaje ajustada a: 0.000110\n",
      "epoch 881/1000 - loss: 0.1978 - acc: 0.9605 - val_loss: 0.1792 - val_acc: 1.0000\n",
      "Tasa de aprendizaje ajustada a: 0.000104\n",
      "epoch 891/1000 - loss: 0.1977 - acc: 0.9605 - val_loss: 0.1791 - val_acc: 1.0000\n",
      "Tasa de aprendizaje ajustada a: 0.000099\n",
      "epoch 901/1000 - loss: 0.1976 - acc: 0.9605 - val_loss: 0.1790 - val_acc: 1.0000\n",
      "Tasa de aprendizaje ajustada a: 0.000094\n",
      "epoch 911/1000 - loss: 0.1975 - acc: 0.9605 - val_loss: 0.1789 - val_acc: 1.0000\n",
      "Tasa de aprendizaje ajustada a: 0.000089\n",
      "epoch 921/1000 - loss: 0.1975 - acc: 0.9605 - val_loss: 0.1789 - val_acc: 1.0000\n",
      "Tasa de aprendizaje ajustada a: 0.000085\n",
      "epoch 931/1000 - loss: 0.1974 - acc: 0.9605 - val_loss: 0.1788 - val_acc: 1.0000\n",
      "Tasa de aprendizaje ajustada a: 0.000081\n",
      "epoch 941/1000 - loss: 0.1973 - acc: 0.9605 - val_loss: 0.1787 - val_acc: 1.0000\n",
      "Tasa de aprendizaje ajustada a: 0.000077\n",
      "epoch 951/1000 - loss: 0.1973 - acc: 0.9605 - val_loss: 0.1786 - val_acc: 1.0000\n",
      "Tasa de aprendizaje ajustada a: 0.000073\n",
      "epoch 961/1000 - loss: 0.1972 - acc: 0.9605 - val_loss: 0.1786 - val_acc: 1.0000\n",
      "Tasa de aprendizaje ajustada a: 0.000069\n",
      "epoch 971/1000 - loss: 0.1972 - acc: 0.9605 - val_loss: 0.1785 - val_acc: 1.0000\n",
      "Tasa de aprendizaje ajustada a: 0.000066\n",
      "epoch 981/1000 - loss: 0.1971 - acc: 0.9605 - val_loss: 0.1785 - val_acc: 1.0000\n",
      "Tasa de aprendizaje ajustada a: 0.000062\n",
      "epoch 991/1000 - loss: 0.1971 - acc: 0.9605 - val_loss: 0.1784 - val_acc: 1.0000\n",
      "epoch 1000/1000 - loss: 0.1970 - acc: 0.9605 - val_loss: 0.1784 - val_acc: 1.0000\n",
      "Entrenamiento completado en 28.94 segundos\n"
     ]
    }
   ],
   "source": [
    "# Definir la arquitectura de la red\n",
    "input_shape = X_train.shape[1]  # Número de características 30\n",
    "hidden_layers = [25, 25]  # Dos capas ocultas con 25 neuronas cada una\n",
    "output_shape = 1  # Clasificación binaria (1 neurona de salida)\n",
    "\n",
    "# Crear la red neuronal\n",
    "model = create_network(input_shape, hidden_layers, output_shape)\n",
    "\n",
    "# Entrenar el modelo\n",
    "print(f\"Iniciando entrenamiento con {EPOCHS} épocas, batch_size={BATCH_SIZE}, learning_rate={LEARNING_RATE}\")\n",
    "start_time = time.time()\n",
    "\n",
    "# Usando los Hiperparámetros importados de config.py\n",
    "train_losses, valid_losses, train_accuracies, valid_accuracies = model.train(\n",
    "    X_train, y_train, X_valid, y_valid,\n",
    "    epochs=EPOCHS,                # por ejemplo 1000\n",
    "    batch_size=BATCH_SIZE,        # por ejemplo 8\n",
    "    learning_rate=LEARNING_RATE,  # por ejemplo 0.01\n",
    "    lr_decay=LR_DECAY             # por ejemplo 0.95\n",
    ")\n",
    "\n",
    "training_time = time.time() - start_time\n",
    "print(f\"Entrenamiento completado en {training_time:.2f} segundos\")"
   ]
  },
  {
   "cell_type": "markdown",
   "id": "126d2b66-5789-4f29-b21f-fd1d5237b705",
   "metadata": {},
   "source": [
    "## Visualizar la curva de aprendizaje"
   ]
  },
  {
   "cell_type": "code",
   "execution_count": 6,
   "id": "d445bd08-164f-4d88-bb57-8ca0639f5fb1",
   "metadata": {},
   "outputs": [
    {
     "data": {
      "image/png": "[encoded data removed]",
      "text/plain": [
       "<Figure size 1500x600 with 2 Axes>"
      ]
     },
     "metadata": {},
     "output_type": "display_data"
    }
   ],
   "source": [
    "# Visualizar las curvas de aprendizaje\n",
    "plt.figure(figsize=(15, 6))\n",
    "\n",
    "# Subplot para la pérdida\n",
    "plt.subplot(1, 2, 1)\n",
    "plt.plot(train_losses, label='Pérdida de entrenamiento')\n",
    "plt.plot(valid_losses, label='Pérdida de validación')\n",
    "plt.title('Curva de pérdida')\n",
    "plt.xlabel('Época')\n",
    "plt.ylabel('Pérdida (Binary Crossentropy)')\n",
    "plt.legend()\n",
    "plt.grid(True)\n",
    "\n",
    "# Subplot para la accuracy\n",
    "plt.subplot(1, 2, 2)\n",
    "plt.plot(train_accuracies, label='Accuracy de entrenamiento')\n",
    "plt.plot(valid_accuracies, label='Accuracy de validación')\n",
    "plt.title('Curva de accuracy')\n",
    "plt.xlabel('Época')\n",
    "plt.ylabel('Accuracy')\n",
    "plt.legend()\n",
    "plt.grid(True)\n",
    "\n",
    "# Guardar la figura\n",
    "output_dir = '../output/figures/'\n",
    "os.makedirs(output_dir, exist_ok=True)\n",
    "plt.savefig(os.path.join(output_dir, 'learning_curves.png'))\n",
    "plt.tight_layout()\n",
    "plt.show()"
   ]
  },
  {
   "cell_type": "markdown",
   "id": "c0dc2994-d61c-4277-b092-9a99ef59bff7",
   "metadata": {},
   "source": [
    "## Guardar el modelo entrenado"
   ]
  },
  {
   "cell_type": "code",
   "execution_count": 7,
   "id": "57a3a1a8-39e9-42c6-93a3-ab91cd4851c7",
   "metadata": {},
   "outputs": [
    {
     "name": "stdout",
     "output_type": "stream",
     "text": [
      "Modelo guardado en ../output/models/trained_model.json\n"
     ]
    }
   ],
   "source": [
    "# Guardar el modelo\n",
    "model_dir = '../output/models/'\n",
    "os.makedirs(model_dir, exist_ok=True)\n",
    "model_path = os.path.join(model_dir, 'trained_model.json')\n",
    "model.save(model_path)"
   ]
  },
  {
   "cell_type": "markdown",
   "id": "e71fa713-00e6-4aa2-81ba-bc75069baf1a",
   "metadata": {},
   "source": [
    "## Guardar hiperparámetros y métricas de entrenamiento"
   ]
  },
  {
   "cell_type": "code",
   "execution_count": 8,
   "id": "8dcb0164-3038-4e4e-8b77-c2960caf4ee9",
   "metadata": {},
   "outputs": [
    {
     "name": "stdout",
     "output_type": "stream",
     "text": [
      "\n",
      "Información de entrenamiento guardada.\n"
     ]
    }
   ],
   "source": [
    "# Guardar hiperparámetros y métricas\n",
    "training_info = {\n",
    "    'input_shape': input_shape,\n",
    "    'hidden_layers': hidden_layers,\n",
    "    'output_shape': output_shape,\n",
    "    'epochs': EPOCHS,\n",
    "    'batch_size': BATCH_SIZE,\n",
    "    'learning_rate': LEARNING_RATE,\n",
    "    'final_train_loss': train_losses[-1],\n",
    "    'final_valid_loss': valid_losses[-1],\n",
    "    'final_train_accuracy': train_accuracies[-1],\n",
    "    'final_valid_accuracy': valid_accuracies[-1],\n",
    "    'training_time_seconds': training_time\n",
    "}\n",
    "\n",
    "with open(os.path.join(model_dir, 'training_info.json'), 'w') as f:\n",
    "    json.dump(training_info, f, indent=4)\n",
    "\n",
    "print(\"\\nInformación de entrenamiento guardada.\")"
   ]
  },
  {
   "cell_type": "markdown",
   "id": "d8b670e7-acd6-4502-865a-4e9e6fdfea3a",
   "metadata": {},
   "source": [
    "## Evaluar el modelo entrenado"
   ]
  },
  {
   "cell_type": "code",
   "execution_count": 9,
   "id": "32214d23-76aa-404c-99fc-890bc7c9e6e5",
   "metadata": {},
   "outputs": [
    {
     "name": "stdout",
     "output_type": "stream",
     "text": [
      "\n",
      "Resultados finales:\n",
      "Train Loss: 0.1970, Train Accuracy: 0.9605\n",
      "Valid Loss: 0.1784, Valid Accuracy: 1.0000\n"
     ]
    }
   ],
   "source": [
    "train_loss, train_acc = model.evaluate(X_train, y_train)\n",
    "valid_loss, valid_acc = model.evaluate(X_valid, y_valid)\n",
    "\n",
    "print(f\"\\nResultados finales:\")\n",
    "print(f\"Train Loss: {train_loss:.4f}, Train Accuracy: {train_acc:.4f}\")\n",
    "print(f\"Valid Loss: {valid_loss:.4f}, Valid Accuracy: {valid_acc:.4f}\")"
   ]
  }
 ],
 "metadata": {
  "kernelspec": {
   "display_name": "Python 3 (ipykernel)",
   "language": "python",
   "name": "python3"
  },
  "language_info": {
   "codemirror_mode": {
    "name": "ipython",
    "version": 3
   },
   "file_extension": ".py",
   "mimetype": "text/x-python",
   "name": "python",
   "nbconvert_exporter": "python",
   "pygments_lexer": "ipython3",
   "version": "3.10.6"
  }
 },
 "nbformat": 4,
 "nbformat_minor": 5
}
