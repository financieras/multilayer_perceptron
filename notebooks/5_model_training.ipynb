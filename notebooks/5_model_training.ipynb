{
 "cells": [
  {
   "cell_type": "markdown",
   "id": "a4736d08-691c-402d-9954-e934a6fa777e",
   "metadata": {},
   "source": [
    "# Entrenamiento del Modelo - Perceptrón Multicapa\n",
    "\n",
    "En este notebook implementaremos un perceptrón multicapa para clasificación binaria utilizando el conjunto de datos de cáncer de mama de Wisconsin (WBCD).\n",
    "\n",
    "Implementaremos las siguientes funcionalidades:\n",
    "- Capas densas con diferentes activaciones\n",
    "- Inicialización de pesos\n",
    "- Forward pass\n",
    "- Backpropagation\n",
    "- Descenso del gradiente\n",
    "- Función de pérdida (binary crossentropy)\n",
    "- Entrenamiento del modelo"
   ]
  },
  {
   "cell_type": "markdown",
   "id": "c1a4fa39-789e-4551-833b-a5a620aa72d1",
   "metadata": {},
   "source": [
    "## Importación de librerías"
   ]
  },
  {
   "cell_type": "code",
   "execution_count": 1,
   "id": "cbc3389d-8180-42d4-b47a-3a5a659526b7",
   "metadata": {},
   "outputs": [],
   "source": [
    "import numpy as np\n",
    "import pandas as pd\n",
    "import matplotlib.pyplot as plt\n",
    "import json\n",
    "import time\n",
    "import sys\n",
    "import os\n",
    "\n",
    "# Añadir el directorio raíz al PATH para poder importar los módulos de utils\n",
    "sys.path.append(os.path.abspath('../'))\n",
    "\n",
    "# Importar funciones de la red neuronal\n",
    "from utils.neural_network_functions import create_network"
   ]
  },
  {
   "cell_type": "code",
   "execution_count": 2,
   "id": "afb2d83d-4816-474c-af34-582f93694051",
   "metadata": {},
   "outputs": [],
   "source": [
    "# Importar los hiperparámetros desde config.py\n",
    "from utils.config import HIDDEN_LAYERS, LEARNING_RATE, EPOCHS, BATCH_SIZE, RANDOM_STATE, LR_DECAY"
   ]
  },
  {
   "cell_type": "markdown",
   "id": "caa6424a-4df2-456e-939b-5cd30a9f2931",
   "metadata": {},
   "source": [
    "## Cargar los datos de entrenamiento y validación"
   ]
  },
  {
   "cell_type": "code",
   "execution_count": 3,
   "id": "22526338-b538-4873-87e1-9969ee110f16",
   "metadata": {},
   "outputs": [
    {
     "name": "stdout",
     "output_type": "stream",
     "text": [
      "X_train shape: (456, 30)\n",
      "y_train shape: (456, 1)\n",
      "X_valid shape: (113, 30)\n",
      "y_valid shape: (113, 1)\n"
     ]
    }
   ],
   "source": [
    "# Cargar datos de entrenamiento y validación\n",
    "train_data = pd.read_csv('../data/processed/train_set_normalized.csv')\n",
    "validation_data = pd.read_csv('../data/processed/test_set_normalized.csv')\n",
    "\n",
    "# Separar características y etiquetas\n",
    "X_train = train_data.iloc[:, 1:].values  # Todas las columnas excepto la primera (diagnosis)\n",
    "y_train = train_data.iloc[:, 0].values.reshape(-1, 1)  # Primera columna (diagnosis)\n",
    "\n",
    "X_valid = validation_data.iloc[:, 1:].values\n",
    "y_valid = validation_data.iloc[:, 0].values.reshape(-1, 1)\n",
    "\n",
    "# Imprimir formas de los conjuntos de datos\n",
    "print(f\"X_train shape: {X_train.shape}\")\n",
    "print(f\"y_train shape: {y_train.shape}\")\n",
    "print(f\"X_valid shape: {X_valid.shape}\")\n",
    "print(f\"y_valid shape: {y_valid.shape}\")"
   ]
  },
  {
   "cell_type": "markdown",
   "id": "35efdd08-8e9d-4bab-a0e3-e73857aed070",
   "metadata": {},
   "source": [
    "## Verificar la normalización correcta de los datos"
   ]
  },
  {
   "cell_type": "code",
   "execution_count": 4,
   "id": "de69c5dd-4d9d-478e-b0ef-443dfd815cdb",
   "metadata": {},
   "outputs": [
    {
     "name": "stdout",
     "output_type": "stream",
     "text": [
      "X_train media: -0.000, std:  1.00, min: -3.2, max: 11.6\n",
      "X_valid media:  0.049, std:  0.99, min: -2.8, max:  7.4\n"
     ]
    }
   ],
   "source": [
    "# Verificar estadísticas de los datos\n",
    "print(f\"X_train media: {np.mean(X_train):.3f}, std:  {np.std(X_train):.2f}, min: {np.min(X_train):.1f}, max: {np.max(X_train):.1f}\")\n",
    "print(f\"X_valid media:  {np.mean(X_valid):.3f}, std:  {np.std(X_valid):.2f}, min: {np.min(X_valid):.1f}, max:  {np.max(X_valid):.1f}\")"
   ]
  },
  {
   "cell_type": "markdown",
   "id": "9834c365-60f1-4fc4-9cd4-8e71ba48289c",
   "metadata": {},
   "source": [
    "## Entrenar el modelo"
   ]
  },
  {
   "cell_type": "code",
   "execution_count": 5,
   "id": "9a24c0ff-ba43-444b-9b8c-7e1b898d757f",
   "metadata": {},
   "outputs": [
    {
     "name": "stdout",
     "output_type": "stream",
     "text": [
      "Iniciando entrenamiento con 1000 épocas, batch_size=8, learning_rate=0.01\n",
      "epoch 01/1000 - loss: 0.8156 - acc: 0.3728 - val_loss: 0.7758 - val_acc: 0.3717\n",
      "Tasa de aprendizaje ajustada a: 0.009500\n",
      "epoch 11/1000 - loss: 0.6237 - acc: 0.6272 - val_loss: 0.6211 - val_acc: 0.6283\n",
      "Tasa de aprendizaje ajustada a: 0.009025\n",
      "epoch 21/1000 - loss: 0.5964 - acc: 0.6272 - val_loss: 0.5943 - val_acc: 0.6283\n",
      "Tasa de aprendizaje ajustada a: 0.008574\n",
      "epoch 31/1000 - loss: 0.5686 - acc: 0.6732 - val_loss: 0.5670 - val_acc: 0.6637\n",
      "Tasa de aprendizaje ajustada a: 0.008145\n",
      "epoch 41/1000 - loss: 0.5392 - acc: 0.7566 - val_loss: 0.5381 - val_acc: 0.7522\n",
      "Tasa de aprendizaje ajustada a: 0.007738\n",
      "epoch 51/1000 - loss: 0.5086 - acc: 0.8377 - val_loss: 0.5080 - val_acc: 0.8584\n",
      "Tasa de aprendizaje ajustada a: 0.007351\n",
      "epoch 61/1000 - loss: 0.4777 - acc: 0.8662 - val_loss: 0.4779 - val_acc: 0.8850\n",
      "Tasa de aprendizaje ajustada a: 0.006983\n",
      "epoch 71/1000 - loss: 0.4476 - acc: 0.8925 - val_loss: 0.4488 - val_acc: 0.9204\n",
      "Tasa de aprendizaje ajustada a: 0.006634\n",
      "epoch 81/1000 - loss: 0.4194 - acc: 0.9232 - val_loss: 0.4217 - val_acc: 0.9292\n",
      "Tasa de aprendizaje ajustada a: 0.006302\n",
      "epoch 91/1000 - loss: 0.3936 - acc: 0.9320 - val_loss: 0.3971 - val_acc: 0.9381\n",
      "Tasa de aprendizaje ajustada a: 0.005987\n",
      "epoch 101/1000 - loss: 0.3706 - acc: 0.9386 - val_loss: 0.3751 - val_acc: 0.9381\n",
      "Tasa de aprendizaje ajustada a: 0.005688\n",
      "epoch 111/1000 - loss: 0.3503 - acc: 0.9430 - val_loss: 0.3559 - val_acc: 0.9381\n",
      "Tasa de aprendizaje ajustada a: 0.005404\n",
      "epoch 121/1000 - loss: 0.3325 - acc: 0.9474 - val_loss: 0.3390 - val_acc: 0.9292\n",
      "Tasa de aprendizaje ajustada a: 0.005133\n",
      "epoch 131/1000 - loss: 0.3170 - acc: 0.9452 - val_loss: 0.3244 - val_acc: 0.9292\n",
      "Tasa de aprendizaje ajustada a: 0.004877\n",
      "epoch 141/1000 - loss: 0.3033 - acc: 0.9452 - val_loss: 0.3116 - val_acc: 0.9381\n",
      "Tasa de aprendizaje ajustada a: 0.004633\n",
      "epoch 151/1000 - loss: 0.2914 - acc: 0.9474 - val_loss: 0.3005 - val_acc: 0.9381\n",
      "Tasa de aprendizaje ajustada a: 0.004401\n",
      "epoch 161/1000 - loss: 0.2809 - acc: 0.9496 - val_loss: 0.2908 - val_acc: 0.9381\n",
      "Tasa de aprendizaje ajustada a: 0.004181\n",
      "epoch 171/1000 - loss: 0.2717 - acc: 0.9518 - val_loss: 0.2822 - val_acc: 0.9381\n",
      "Tasa de aprendizaje ajustada a: 0.003972\n",
      "epoch 181/1000 - loss: 0.2634 - acc: 0.9518 - val_loss: 0.2746 - val_acc: 0.9381\n",
      "Tasa de aprendizaje ajustada a: 0.003774\n",
      "epoch 191/1000 - loss: 0.2562 - acc: 0.9518 - val_loss: 0.2679 - val_acc: 0.9381\n",
      "Tasa de aprendizaje ajustada a: 0.003585\n",
      "epoch 201/1000 - loss: 0.2496 - acc: 0.9539 - val_loss: 0.2619 - val_acc: 0.9469\n",
      "Tasa de aprendizaje ajustada a: 0.003406\n",
      "epoch 211/1000 - loss: 0.2438 - acc: 0.9561 - val_loss: 0.2565 - val_acc: 0.9469\n",
      "Tasa de aprendizaje ajustada a: 0.003235\n",
      "epoch 221/1000 - loss: 0.2385 - acc: 0.9605 - val_loss: 0.2517 - val_acc: 0.9469\n",
      "Tasa de aprendizaje ajustada a: 0.003074\n",
      "epoch 231/1000 - loss: 0.2337 - acc: 0.9605 - val_loss: 0.2473 - val_acc: 0.9381\n",
      "Tasa de aprendizaje ajustada a: 0.002920\n",
      "epoch 241/1000 - loss: 0.2294 - acc: 0.9627 - val_loss: 0.2434 - val_acc: 0.9381\n",
      "Tasa de aprendizaje ajustada a: 0.002774\n",
      "epoch 251/1000 - loss: 0.2255 - acc: 0.9627 - val_loss: 0.2398 - val_acc: 0.9381\n",
      "Tasa de aprendizaje ajustada a: 0.002635\n",
      "epoch 261/1000 - loss: 0.2218 - acc: 0.9627 - val_loss: 0.2365 - val_acc: 0.9381\n",
      "Tasa de aprendizaje ajustada a: 0.002503\n",
      "epoch 271/1000 - loss: 0.2185 - acc: 0.9627 - val_loss: 0.2336 - val_acc: 0.9381\n",
      "Tasa de aprendizaje ajustada a: 0.002378\n",
      "epoch 281/1000 - loss: 0.2155 - acc: 0.9649 - val_loss: 0.2309 - val_acc: 0.9381\n",
      "Tasa de aprendizaje ajustada a: 0.002259\n",
      "epoch 291/1000 - loss: 0.2128 - acc: 0.9649 - val_loss: 0.2284 - val_acc: 0.9381\n",
      "Tasa de aprendizaje ajustada a: 0.002146\n",
      "epoch 301/1000 - loss: 0.2102 - acc: 0.9649 - val_loss: 0.2261 - val_acc: 0.9381\n",
      "Tasa de aprendizaje ajustada a: 0.002039\n",
      "epoch 311/1000 - loss: 0.2078 - acc: 0.9671 - val_loss: 0.2239 - val_acc: 0.9381\n",
      "Tasa de aprendizaje ajustada a: 0.001937\n",
      "epoch 321/1000 - loss: 0.2057 - acc: 0.9671 - val_loss: 0.2220 - val_acc: 0.9469\n",
      "Tasa de aprendizaje ajustada a: 0.001840\n",
      "epoch 331/1000 - loss: 0.2036 - acc: 0.9671 - val_loss: 0.2202 - val_acc: 0.9469\n",
      "Tasa de aprendizaje ajustada a: 0.001748\n",
      "epoch 341/1000 - loss: 0.2018 - acc: 0.9671 - val_loss: 0.2185 - val_acc: 0.9469\n",
      "Tasa de aprendizaje ajustada a: 0.001661\n",
      "epoch 351/1000 - loss: 0.2000 - acc: 0.9693 - val_loss: 0.2169 - val_acc: 0.9469\n",
      "Tasa de aprendizaje ajustada a: 0.001578\n",
      "epoch 361/1000 - loss: 0.1984 - acc: 0.9693 - val_loss: 0.2155 - val_acc: 0.9469\n",
      "Tasa de aprendizaje ajustada a: 0.001499\n",
      "epoch 371/1000 - loss: 0.1969 - acc: 0.9693 - val_loss: 0.2142 - val_acc: 0.9469\n",
      "Tasa de aprendizaje ajustada a: 0.001424\n",
      "epoch 381/1000 - loss: 0.1955 - acc: 0.9693 - val_loss: 0.2129 - val_acc: 0.9469\n",
      "Tasa de aprendizaje ajustada a: 0.001353\n",
      "epoch 391/1000 - loss: 0.1942 - acc: 0.9693 - val_loss: 0.2117 - val_acc: 0.9469\n",
      "Tasa de aprendizaje ajustada a: 0.001285\n",
      "epoch 401/1000 - loss: 0.1929 - acc: 0.9693 - val_loss: 0.2106 - val_acc: 0.9469\n",
      "Tasa de aprendizaje ajustada a: 0.001221\n",
      "epoch 411/1000 - loss: 0.1918 - acc: 0.9693 - val_loss: 0.2096 - val_acc: 0.9469\n",
      "Tasa de aprendizaje ajustada a: 0.001160\n",
      "epoch 421/1000 - loss: 0.1907 - acc: 0.9693 - val_loss: 0.2087 - val_acc: 0.9469\n",
      "Tasa de aprendizaje ajustada a: 0.001102\n",
      "epoch 431/1000 - loss: 0.1897 - acc: 0.9693 - val_loss: 0.2078 - val_acc: 0.9469\n",
      "Tasa de aprendizaje ajustada a: 0.001047\n",
      "epoch 441/1000 - loss: 0.1888 - acc: 0.9693 - val_loss: 0.2070 - val_acc: 0.9469\n",
      "Tasa de aprendizaje ajustada a: 0.000994\n",
      "epoch 451/1000 - loss: 0.1879 - acc: 0.9693 - val_loss: 0.2062 - val_acc: 0.9469\n",
      "Tasa de aprendizaje ajustada a: 0.000945\n",
      "epoch 461/1000 - loss: 0.1870 - acc: 0.9693 - val_loss: 0.2054 - val_acc: 0.9469\n",
      "Tasa de aprendizaje ajustada a: 0.000897\n",
      "epoch 471/1000 - loss: 0.1863 - acc: 0.9693 - val_loss: 0.2047 - val_acc: 0.9469\n",
      "Tasa de aprendizaje ajustada a: 0.000853\n",
      "epoch 481/1000 - loss: 0.1855 - acc: 0.9693 - val_loss: 0.2041 - val_acc: 0.9469\n",
      "Tasa de aprendizaje ajustada a: 0.000810\n",
      "epoch 491/1000 - loss: 0.1848 - acc: 0.9715 - val_loss: 0.2035 - val_acc: 0.9469\n",
      "Tasa de aprendizaje ajustada a: 0.000769\n",
      "epoch 501/1000 - loss: 0.1842 - acc: 0.9715 - val_loss: 0.2029 - val_acc: 0.9469\n",
      "Tasa de aprendizaje ajustada a: 0.000731\n",
      "epoch 511/1000 - loss: 0.1836 - acc: 0.9715 - val_loss: 0.2024 - val_acc: 0.9469\n",
      "Tasa de aprendizaje ajustada a: 0.000694\n",
      "epoch 521/1000 - loss: 0.1830 - acc: 0.9715 - val_loss: 0.2019 - val_acc: 0.9469\n",
      "Tasa de aprendizaje ajustada a: 0.000660\n",
      "epoch 531/1000 - loss: 0.1825 - acc: 0.9715 - val_loss: 0.2014 - val_acc: 0.9469\n",
      "Tasa de aprendizaje ajustada a: 0.000627\n",
      "epoch 541/1000 - loss: 0.1820 - acc: 0.9715 - val_loss: 0.2009 - val_acc: 0.9469\n",
      "Tasa de aprendizaje ajustada a: 0.000595\n",
      "epoch 551/1000 - loss: 0.1815 - acc: 0.9715 - val_loss: 0.2005 - val_acc: 0.9469\n",
      "Tasa de aprendizaje ajustada a: 0.000566\n",
      "epoch 561/1000 - loss: 0.1810 - acc: 0.9715 - val_loss: 0.2001 - val_acc: 0.9469\n",
      "Tasa de aprendizaje ajustada a: 0.000537\n",
      "epoch 571/1000 - loss: 0.1806 - acc: 0.9715 - val_loss: 0.1997 - val_acc: 0.9469\n",
      "Tasa de aprendizaje ajustada a: 0.000510\n",
      "epoch 581/1000 - loss: 0.1802 - acc: 0.9715 - val_loss: 0.1994 - val_acc: 0.9469\n",
      "Tasa de aprendizaje ajustada a: 0.000485\n",
      "epoch 591/1000 - loss: 0.1798 - acc: 0.9715 - val_loss: 0.1990 - val_acc: 0.9469\n",
      "Tasa de aprendizaje ajustada a: 0.000461\n",
      "epoch 601/1000 - loss: 0.1794 - acc: 0.9715 - val_loss: 0.1987 - val_acc: 0.9469\n",
      "Tasa de aprendizaje ajustada a: 0.000438\n",
      "epoch 611/1000 - loss: 0.1791 - acc: 0.9715 - val_loss: 0.1984 - val_acc: 0.9469\n",
      "Tasa de aprendizaje ajustada a: 0.000416\n",
      "epoch 621/1000 - loss: 0.1788 - acc: 0.9715 - val_loss: 0.1981 - val_acc: 0.9469\n",
      "Tasa de aprendizaje ajustada a: 0.000395\n",
      "epoch 631/1000 - loss: 0.1784 - acc: 0.9715 - val_loss: 0.1979 - val_acc: 0.9469\n",
      "Tasa de aprendizaje ajustada a: 0.000375\n",
      "epoch 641/1000 - loss: 0.1782 - acc: 0.9715 - val_loss: 0.1976 - val_acc: 0.9469\n",
      "Tasa de aprendizaje ajustada a: 0.000356\n",
      "epoch 651/1000 - loss: 0.1779 - acc: 0.9715 - val_loss: 0.1974 - val_acc: 0.9469\n",
      "Tasa de aprendizaje ajustada a: 0.000339\n",
      "epoch 661/1000 - loss: 0.1776 - acc: 0.9715 - val_loss: 0.1971 - val_acc: 0.9469\n",
      "Tasa de aprendizaje ajustada a: 0.000322\n",
      "epoch 671/1000 - loss: 0.1774 - acc: 0.9715 - val_loss: 0.1969 - val_acc: 0.9469\n",
      "Tasa de aprendizaje ajustada a: 0.000306\n",
      "epoch 681/1000 - loss: 0.1771 - acc: 0.9715 - val_loss: 0.1967 - val_acc: 0.9469\n",
      "Tasa de aprendizaje ajustada a: 0.000290\n",
      "epoch 691/1000 - loss: 0.1769 - acc: 0.9715 - val_loss: 0.1965 - val_acc: 0.9469\n",
      "Tasa de aprendizaje ajustada a: 0.000276\n",
      "epoch 701/1000 - loss: 0.1767 - acc: 0.9715 - val_loss: 0.1963 - val_acc: 0.9469\n",
      "Tasa de aprendizaje ajustada a: 0.000262\n",
      "epoch 711/1000 - loss: 0.1765 - acc: 0.9715 - val_loss: 0.1962 - val_acc: 0.9469\n",
      "Tasa de aprendizaje ajustada a: 0.000249\n",
      "epoch 721/1000 - loss: 0.1763 - acc: 0.9715 - val_loss: 0.1960 - val_acc: 0.9469\n",
      "Tasa de aprendizaje ajustada a: 0.000236\n",
      "epoch 731/1000 - loss: 0.1762 - acc: 0.9715 - val_loss: 0.1958 - val_acc: 0.9469\n",
      "Tasa de aprendizaje ajustada a: 0.000225\n",
      "epoch 741/1000 - loss: 0.1760 - acc: 0.9715 - val_loss: 0.1957 - val_acc: 0.9469\n",
      "Tasa de aprendizaje ajustada a: 0.000213\n",
      "epoch 751/1000 - loss: 0.1758 - acc: 0.9715 - val_loss: 0.1956 - val_acc: 0.9469\n",
      "Tasa de aprendizaje ajustada a: 0.000203\n",
      "epoch 761/1000 - loss: 0.1757 - acc: 0.9715 - val_loss: 0.1954 - val_acc: 0.9469\n",
      "Tasa de aprendizaje ajustada a: 0.000193\n",
      "epoch 771/1000 - loss: 0.1755 - acc: 0.9715 - val_loss: 0.1953 - val_acc: 0.9469\n",
      "Tasa de aprendizaje ajustada a: 0.000183\n",
      "epoch 781/1000 - loss: 0.1754 - acc: 0.9715 - val_loss: 0.1952 - val_acc: 0.9469\n",
      "Tasa de aprendizaje ajustada a: 0.000174\n",
      "epoch 791/1000 - loss: 0.1753 - acc: 0.9715 - val_loss: 0.1951 - val_acc: 0.9469\n",
      "Tasa de aprendizaje ajustada a: 0.000165\n",
      "epoch 801/1000 - loss: 0.1751 - acc: 0.9715 - val_loss: 0.1950 - val_acc: 0.9469\n",
      "Tasa de aprendizaje ajustada a: 0.000157\n",
      "epoch 811/1000 - loss: 0.1750 - acc: 0.9715 - val_loss: 0.1949 - val_acc: 0.9469\n",
      "Tasa de aprendizaje ajustada a: 0.000149\n",
      "epoch 821/1000 - loss: 0.1749 - acc: 0.9715 - val_loss: 0.1948 - val_acc: 0.9469\n",
      "Tasa de aprendizaje ajustada a: 0.000142\n",
      "epoch 831/1000 - loss: 0.1748 - acc: 0.9715 - val_loss: 0.1947 - val_acc: 0.9469\n",
      "Tasa de aprendizaje ajustada a: 0.000135\n",
      "epoch 841/1000 - loss: 0.1747 - acc: 0.9715 - val_loss: 0.1946 - val_acc: 0.9469\n",
      "Tasa de aprendizaje ajustada a: 0.000128\n",
      "epoch 851/1000 - loss: 0.1746 - acc: 0.9715 - val_loss: 0.1945 - val_acc: 0.9469\n",
      "Tasa de aprendizaje ajustada a: 0.000121\n",
      "epoch 861/1000 - loss: 0.1745 - acc: 0.9715 - val_loss: 0.1944 - val_acc: 0.9469\n",
      "Tasa de aprendizaje ajustada a: 0.000115\n",
      "epoch 871/1000 - loss: 0.1745 - acc: 0.9715 - val_loss: 0.1944 - val_acc: 0.9469\n",
      "Tasa de aprendizaje ajustada a: 0.000110\n",
      "epoch 881/1000 - loss: 0.1744 - acc: 0.9715 - val_loss: 0.1943 - val_acc: 0.9469\n",
      "Tasa de aprendizaje ajustada a: 0.000104\n",
      "epoch 891/1000 - loss: 0.1743 - acc: 0.9715 - val_loss: 0.1942 - val_acc: 0.9469\n",
      "Tasa de aprendizaje ajustada a: 0.000099\n",
      "epoch 901/1000 - loss: 0.1742 - acc: 0.9715 - val_loss: 0.1942 - val_acc: 0.9469\n",
      "Tasa de aprendizaje ajustada a: 0.000094\n",
      "epoch 911/1000 - loss: 0.1742 - acc: 0.9715 - val_loss: 0.1941 - val_acc: 0.9469\n",
      "Tasa de aprendizaje ajustada a: 0.000089\n",
      "epoch 921/1000 - loss: 0.1741 - acc: 0.9715 - val_loss: 0.1940 - val_acc: 0.9469\n",
      "Tasa de aprendizaje ajustada a: 0.000085\n",
      "epoch 931/1000 - loss: 0.1740 - acc: 0.9715 - val_loss: 0.1940 - val_acc: 0.9469\n",
      "Tasa de aprendizaje ajustada a: 0.000081\n",
      "epoch 941/1000 - loss: 0.1740 - acc: 0.9715 - val_loss: 0.1939 - val_acc: 0.9469\n",
      "Tasa de aprendizaje ajustada a: 0.000077\n",
      "epoch 951/1000 - loss: 0.1739 - acc: 0.9715 - val_loss: 0.1939 - val_acc: 0.9469\n",
      "Tasa de aprendizaje ajustada a: 0.000073\n",
      "epoch 961/1000 - loss: 0.1739 - acc: 0.9715 - val_loss: 0.1938 - val_acc: 0.9469\n",
      "Tasa de aprendizaje ajustada a: 0.000069\n",
      "epoch 971/1000 - loss: 0.1738 - acc: 0.9715 - val_loss: 0.1938 - val_acc: 0.9469\n",
      "Tasa de aprendizaje ajustada a: 0.000066\n",
      "epoch 981/1000 - loss: 0.1738 - acc: 0.9715 - val_loss: 0.1938 - val_acc: 0.9469\n",
      "Tasa de aprendizaje ajustada a: 0.000062\n",
      "epoch 991/1000 - loss: 0.1737 - acc: 0.9715 - val_loss: 0.1937 - val_acc: 0.9469\n",
      "epoch 1000/1000 - loss: 0.1737 - acc: 0.9715 - val_loss: 0.1937 - val_acc: 0.9469\n",
      "Entrenamiento completado en 27.67 segundos\n"
     ]
    }
   ],
   "source": [
    "# Definir la arquitectura de la red\n",
    "input_shape = X_train.shape[1]  # Número de características 30\n",
    "hidden_layers = [25, 25]  # Dos capas ocultas con 25 neuronas cada una\n",
    "output_shape = 1  # Clasificación binaria (1 neurona de salida)\n",
    "\n",
    "# Crear la red neuronal\n",
    "model = create_network(input_shape, hidden_layers, output_shape)\n",
    "\n",
    "# Entrenar el modelo\n",
    "print(f\"Iniciando entrenamiento con {EPOCHS} épocas, batch_size={BATCH_SIZE}, learning_rate={LEARNING_RATE}\")\n",
    "start_time = time.time()\n",
    "\n",
    "# Usando los Hiperparámetros importados de config.py\n",
    "train_losses, valid_losses, train_accuracies, valid_accuracies = model.train(\n",
    "    X_train, y_train, X_valid, y_valid,\n",
    "    epochs=EPOCHS,                # por ejemplo 1000\n",
    "    batch_size=BATCH_SIZE,        # por ejemplo 8\n",
    "    learning_rate=LEARNING_RATE,  # por ejemplo 0.01\n",
    "    lr_decay=LR_DECAY             # por ejemplo 0.95\n",
    ")\n",
    "\n",
    "training_time = time.time() - start_time\n",
    "print(f\"Entrenamiento completado en {training_time:.2f} segundos\")"
   ]
  },
  {
   "cell_type": "markdown",
   "id": "126d2b66-5789-4f29-b21f-fd1d5237b705",
   "metadata": {},
   "source": [
    "## Visualizar la curva de aprendizaje"
   ]
  },
  {
   "cell_type": "code",
   "execution_count": 6,
   "id": "d445bd08-164f-4d88-bb57-8ca0639f5fb1",
   "metadata": {},
   "outputs": [
    {
     "data": {
      "image/png": "[encoded data removed]",
      "text/plain": [
       "<Figure size 1500x600 with 2 Axes>"
      ]
     },
     "metadata": {},
     "output_type": "display_data"
    }
   ],
   "source": [
    "# Visualizar las curvas de aprendizaje\n",
    "plt.figure(figsize=(15, 6))\n",
    "\n",
    "# Subplot para la pérdida\n",
    "plt.subplot(1, 2, 1)\n",
    "plt.plot(train_losses, label='Pérdida de entrenamiento')\n",
    "plt.plot(valid_losses, label='Pérdida de validación')\n",
    "plt.title('Curva de pérdida')\n",
    "plt.xlabel('Época')\n",
    "plt.ylabel('Pérdida (Binary Crossentropy)')\n",
    "plt.legend()\n",
    "plt.grid(True)\n",
    "\n",
    "# Subplot para la accuracy\n",
    "plt.subplot(1, 2, 2)\n",
    "plt.plot(train_accuracies, label='Accuracy de entrenamiento')\n",
    "plt.plot(valid_accuracies, label='Accuracy de validación')\n",
    "plt.title('Curva de accuracy')\n",
    "plt.xlabel('Época')\n",
    "plt.ylabel('Accuracy')\n",
    "plt.legend()\n",
    "plt.grid(True)\n",
    "\n",
    "# Guardar la figura\n",
    "output_dir = '../output/figures/'\n",
    "os.makedirs(output_dir, exist_ok=True)\n",
    "plt.savefig(os.path.join(output_dir, 'learning_curves.png'))\n",
    "plt.tight_layout()\n",
    "plt.show()"
   ]
  },
  {
   "cell_type": "markdown",
   "id": "c0dc2994-d61c-4277-b092-9a99ef59bff7",
   "metadata": {},
   "source": [
    "## Guardar el modelo entrenado"
   ]
  },
  {
   "cell_type": "code",
   "execution_count": 7,
   "id": "57a3a1a8-39e9-42c6-93a3-ab91cd4851c7",
   "metadata": {},
   "outputs": [
    {
     "name": "stdout",
     "output_type": "stream",
     "text": [
      "Modelo guardado en ../output/models/trained_model.json\n"
     ]
    }
   ],
   "source": [
    "# Guardar el modelo\n",
    "model_dir = '../output/models/'\n",
    "os.makedirs(model_dir, exist_ok=True)\n",
    "model_path = os.path.join(model_dir, 'trained_model.json')\n",
    "model.save(model_path)"
   ]
  },
  {
   "cell_type": "markdown",
   "id": "e71fa713-00e6-4aa2-81ba-bc75069baf1a",
   "metadata": {},
   "source": [
    "## Guardar hiperparámetros y métricas de entrenamiento"
   ]
  },
  {
   "cell_type": "code",
   "execution_count": 8,
   "id": "8dcb0164-3038-4e4e-8b77-c2960caf4ee9",
   "metadata": {},
   "outputs": [
    {
     "name": "stdout",
     "output_type": "stream",
     "text": [
      "\n",
      "Información de entrenamiento guardada.\n"
     ]
    }
   ],
   "source": [
    "# Guardar hiperparámetros y métricas\n",
    "training_info = {\n",
    "    'input_shape': input_shape,\n",
    "    'hidden_layers': hidden_layers,\n",
    "    'output_shape': output_shape,\n",
    "    'epochs': EPOCHS,\n",
    "    'batch_size': BATCH_SIZE,\n",
    "    'learning_rate': LEARNING_RATE,\n",
    "    'final_train_loss': train_losses[-1],\n",
    "    'final_valid_loss': valid_losses[-1],\n",
    "    'final_train_accuracy': train_accuracies[-1],\n",
    "    'final_valid_accuracy': valid_accuracies[-1],\n",
    "    'training_time_seconds': training_time\n",
    "}\n",
    "\n",
    "with open(os.path.join(model_dir, 'training_info.json'), 'w') as f:\n",
    "    json.dump(training_info, f, indent=4)\n",
    "\n",
    "print(\"\\nInformación de entrenamiento guardada.\")"
   ]
  },
  {
   "cell_type": "markdown",
   "id": "d8b670e7-acd6-4502-865a-4e9e6fdfea3a",
   "metadata": {},
   "source": [
    "## Evaluar el modelo entrenado"
   ]
  },
  {
   "cell_type": "code",
   "execution_count": 9,
   "id": "32214d23-76aa-404c-99fc-890bc7c9e6e5",
   "metadata": {},
   "outputs": [
    {
     "name": "stdout",
     "output_type": "stream",
     "text": [
      "\n",
      "Resultados finales:\n",
      "Train Loss: 0.1737, Train Accuracy: 0.9715\n",
      "Valid Loss: 0.1937, Valid Accuracy: 0.9469\n"
     ]
    }
   ],
   "source": [
    "train_loss, train_acc = model.evaluate(X_train, y_train)\n",
    "valid_loss, valid_acc = model.evaluate(X_valid, y_valid)\n",
    "\n",
    "print(f\"\\nResultados finales:\")\n",
    "print(f\"Train Loss: {train_loss:.4f}, Train Accuracy: {train_acc:.4f}\")\n",
    "print(f\"Valid Loss: {valid_loss:.4f}, Valid Accuracy: {valid_acc:.4f}\")"
   ]
  }
 ],
 "metadata": {
  "kernelspec": {
   "display_name": "Python 3 (ipykernel)",
   "language": "python",
   "name": "python3"
  },
  "language_info": {
   "codemirror_mode": {
    "name": "ipython",
    "version": 3
   },
   "file_extension": ".py",
   "mimetype": "text/x-python",
   "name": "python",
   "nbconvert_exporter": "python",
   "pygments_lexer": "ipython3",
   "version": "3.10.6"
  }
 },
 "nbformat": 4,
 "nbformat_minor": 5
}
