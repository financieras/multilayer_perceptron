{
 "cells": [
  {
   "cell_type": "markdown",
   "id": "ff8a80b6-2b18-4fef-acf7-7b8fa51dd4c4",
   "metadata": {},
   "source": [
    "# Crear controles interactivos en Jupyter Notebook\n",
    "Es posible crear listas desplegables, barras deslizantes y otros controles interactivos en Jupyter Notebook utilizando la biblioteca **`ipywidgets`**.  \n",
    "Esta biblioteca te permite agregar widgets interactivos directamente en las celdas de Python, lo que facilita la selección de parámetros para tu red neuronal de manera dinámica.\n",
    "\n",
    "### Cómo usar `ipywidgets` para crear controles interactivos\n",
    "\n",
    "1. **Instalación de `ipywidgets`**:\n",
    "   Si no tienes instalada la biblioteca, puedes instalarla con el siguiente comando:\n",
    "   ```bash\n",
    "   pip install ipywidgets\n",
    "   ```"
   ]
  },
  {
   "cell_type": "markdown",
   "id": "d9cfa13a-d34e-487c-ac46-b4f709d9f796",
   "metadata": {},
   "source": [
    "2. **Importar la biblioteca**:\n",
    "   En tu Notebook, importa `ipywidgets` y otras bibliotecas necesarias."
   ]
  },
  {
   "cell_type": "code",
   "execution_count": 11,
   "id": "3ef5b7fa-0da6-4e22-a728-f2d0000f9108",
   "metadata": {},
   "outputs": [],
   "source": [
    "import ipywidgets as widgets\n",
    "from IPython.display import display"
   ]
  },
  {
   "cell_type": "markdown",
   "id": "7311031e-a9e9-47f5-8051-71b45c101c32",
   "metadata": {},
   "source": [
    "3. **Crear widgets**:\n",
    "   Puedes crear diferentes tipos de widgets, como listas desplegables, barras deslizantes, botones, etc. Aquí te muestro algunos ejemplos:\n",
    "\n",
    "   - **Lista desplegable**:"
   ]
  },
  {
   "cell_type": "code",
   "execution_count": 12,
   "id": "78815530-bf1c-4e74-bb60-462af8df4df2",
   "metadata": {},
   "outputs": [
    {
     "data": {
      "application/vnd.jupyter.widget-view+json": {
       "model_id": "5d7d4ea6a6e8485a8b5f1160138c364e",
       "version_major": 2,
       "version_minor": 0
      },
      "text/plain": [
       "Dropdown(description='Función de activación:', options=('sigmoid', 'relu', 'tanh', 'softmax'), value='sigmoid'…"
      ]
     },
     "metadata": {},
     "output_type": "display_data"
    }
   ],
   "source": [
    "activation_widget = widgets.Dropdown(\n",
    " options=['sigmoid', 'relu', 'tanh', 'softmax'],\n",
    " value='sigmoid',\n",
    " description='Función de activación:'\n",
    ")\n",
    "display(activation_widget)"
   ]
  },
  {
   "cell_type": "markdown",
   "id": "29c9c82d-45b6-4bd0-a4f9-b84ec7d5ced6",
   "metadata": {},
   "source": [
    "   - **Barra deslizante**:"
   ]
  },
  {
   "cell_type": "code",
   "execution_count": 13,
   "id": "8db3351c-d656-4856-9d15-69b0cfd80ac5",
   "metadata": {},
   "outputs": [
    {
     "data": {
      "application/vnd.jupyter.widget-view+json": {
       "model_id": "174ebd9e791c4c2bbbe6fdfc63157f1c",
       "version_major": 2,
       "version_minor": 0
      },
      "text/plain": [
       "IntSlider(value=25, description='Neuronas por capa:', min=1)"
      ]
     },
     "metadata": {},
     "output_type": "display_data"
    }
   ],
   "source": [
    "neurons_widget = widgets.IntSlider(\n",
    " value=25,\n",
    " min=1,\n",
    " max=100,\n",
    " step=1,\n",
    " description='Neuronas por capa:'\n",
    ")\n",
    "display(neurons_widget)"
   ]
  },
  {
   "cell_type": "markdown",
   "id": "6418b819-2a2e-4f02-9c0a-2073e97e5a24",
   "metadata": {},
   "source": [
    "   - **Campo de texto**:\n"
   ]
  },
  {
   "cell_type": "code",
   "execution_count": 14,
   "id": "f6228893-6842-41ca-80a1-fb8721165ea9",
   "metadata": {},
   "outputs": [
    {
     "data": {
      "application/vnd.jupyter.widget-view+json": {
       "model_id": "17de2e78058d43528231f2cddca731c2",
       "version_major": 2,
       "version_minor": 0
      },
      "text/plain": [
       "FloatText(value=0.01, description='Tasa de aprendizaje:')"
      ]
     },
     "metadata": {},
     "output_type": "display_data"
    }
   ],
   "source": [
    "learning_rate_widget = widgets.FloatText(\n",
    " value=0.01,\n",
    " description='Tasa de aprendizaje:'\n",
    ")\n",
    "display(learning_rate_widget)"
   ]
  },
  {
   "cell_type": "markdown",
   "id": "15bfa7ab-25cc-4e1d-bf75-2a07d88cde20",
   "metadata": {},
   "source": [
    "   - **Botón**:"
   ]
  },
  {
   "cell_type": "code",
   "execution_count": 15,
   "id": "7b69fc13-7336-40bd-98ba-c97f2d0d17f3",
   "metadata": {},
   "outputs": [
    {
     "data": {
      "application/vnd.jupyter.widget-view+json": {
       "model_id": "21dde1f00fbd41e0848ff10fe8f2c844",
       "version_major": 2,
       "version_minor": 0
      },
      "text/plain": [
       "Button(description='Entrenar red', style=ButtonStyle())"
      ]
     },
     "metadata": {},
     "output_type": "display_data"
    }
   ],
   "source": [
    "train_button = widgets.Button(description=\"Entrenar red\")\n",
    "display(train_button)"
   ]
  },
  {
   "cell_type": "markdown",
   "id": "a28c0f6e-45c0-429c-a0a4-14fbcefea46f",
   "metadata": {},
   "source": [
    "4. **Conectar widgets a la lógica del programa**:\n",
    "   Puedes usar los valores seleccionados en los widgets para configurar y entrenar tu red neuronal. Por ejemplo:"
   ]
  },
  {
   "cell_type": "code",
   "execution_count": 16,
   "id": "01c889c7-bdee-4b94-85e6-bb4dc9f035ec",
   "metadata": {},
   "outputs": [],
   "source": [
    "def on_train_button_clicked(b):\n",
    "    print(f\"Entrenando red con {neurons_widget.value} neuronas, función de activación {activation_widget.value}, y tasa de aprendizaje {learning_rate_widget.value}\")\n",
    "    # Aquí iría el código para crear y entrenar la red neuronal\n",
    "\n",
    "train_button.on_click(on_train_button_clicked)"
   ]
  },
  {
   "cell_type": "code",
   "execution_count": null,
   "id": "b7be5c06-eee2-4fbe-ba99-948777bfbb5a",
   "metadata": {},
   "outputs": [],
   "source": [
    "import ipywidgets as widgets\n",
    "from IPython.display import display\n",
    "import tensorflow as tf\n",
    "from tensorflow.keras import layers, models\n",
    "\n",
    "# Widgets\n",
    "activation_widget = widgets.Dropdown(\n",
    "   options=['sigmoid', 'relu', 'tanh', 'softmax'],\n",
    "   value='sigmoid',\n",
    "   description='Función de activación:'\n",
    ")\n",
    "neurons_widget = widgets.IntSlider(\n",
    "   value=25,\n",
    "   min=1,\n",
    "   max=100,\n",
    "   step=1,\n",
    "   description='Neuronas por capa:'\n",
    ")\n",
    "learning_rate_widget = widgets.FloatText(\n",
    "   value=0.01,\n",
    "   description='Tasa de aprendizaje:'\n",
    ")\n",
    "train_button = widgets.Button(description=\"Entrenar red\")\n",
    "\n",
    "display(activation_widget, neurons_widget, learning_rate_widget, train_button)\n",
    "\n",
    "# Función para entrenar la red\n",
    "def on_train_button_clicked(b):\n",
    "   print(f\"Configurando red con {neurons_widget.value} neuronas, función de activación {activation_widget.value}, y tasa de aprendizaje {learning_rate_widget.value}\")\n",
    "\n",
    "   # Crear la red neuronal\n",
    "   model = models.Sequential([\n",
    "       layers.Dense(neurons_widget.value, activation=activation_widget.value, input_shape=(input_shape,)),\n",
    "       layers.Dense(neurons_widget.value, activation=activation_widget.value),\n",
    "       layers.Dense(output_shape, activation='softmax')\n",
    "   ])\n",
    "\n",
    "   # Compilar el modelo\n",
    "   model.compile(optimizer=tf.keras.optimizers.Adam(learning_rate=learning_rate_widget.value),\n",
    "                 loss='binary_crossentropy',\n",
    "                 metrics=['accuracy'])\n",
    "\n",
    "   # Entrenar el modelo (aquí debes proporcionar tus datos)\n",
    "   # model.fit(X_train, y_train, epochs=10, batch_size=32, validation_data=(X_val, y_val))\n",
    "\n",
    "train_button.on_click(on_train_button_clicked)"
   ]
  }
 ],
 "metadata": {
  "kernelspec": {
   "display_name": "Python 3 (ipykernel)",
   "language": "python",
   "name": "python3"
  },
  "language_info": {
   "codemirror_mode": {
    "name": "ipython",
    "version": 3
   },
   "file_extension": ".py",
   "mimetype": "text/x-python",
   "name": "python",
   "nbconvert_exporter": "python",
   "pygments_lexer": "ipython3",
   "version": "3.10.12"
  }
 },
 "nbformat": 4,
 "nbformat_minor": 5
}
