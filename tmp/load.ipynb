{
 "cells": [
  {
   "cell_type": "markdown",
   "id": "dbfde8a7-5ceb-4489-8def-eca457340bc6",
   "metadata": {},
   "source": [
    "# Cargando la funciones y el código de un archivo `.py`"
   ]
  },
  {
   "cell_type": "markdown",
   "id": "2bf92693-fb9a-439e-b924-7183b4eb1fa6",
   "metadata": {},
   "source": [
    "## Cargando todo el archivo de Python\n",
    "`%load ../src/forward_propagation.py`\n",
    "\n",
    "Se cargaran todas las funciones y todo el código que contenga el archivo `.py`"
   ]
  },
  {
   "cell_type": "code",
   "execution_count": 4,
   "id": "e3e952fd-881b-4bbc-9531-f589316ef103",
   "metadata": {},
   "outputs": [],
   "source": [
    "# %load ../src/forward_propagation.py\n",
    "# perceptron/src/forward_propagation.py\n",
    "# versión con DOS capas ocultas\n",
    "\n",
    "import numpy as np\n",
    "import pandas as pd\n",
    "np.random.seed(0)       # OJO La semilla se fija para hacer prueba, en producción quirar el número\n",
    "\n",
    "def forward_propagation(X, weights, biases):\n",
    "    \"\"\"\n",
    "    Realiza la propagación hacia adelante (forward propagation) en la red neuronal.\n",
    "    \n",
    "    Parámetros:\n",
    "    X (numpy.ndarray): Matriz de características de entrada (muestras x características)\n",
    "    weights (list): Lista de matrices de pesos para cada capa\n",
    "    biases (list): Lista de vectores de sesgos para cada capa\n",
    "    \n",
    "    Retorna:\n",
    "    numpy.ndarray: Vector de salidas de la red neuronal\n",
    "    \"\"\"\n",
    "    \n",
    "    # Número de capas en la red\n",
    "    num_layers = len(weights)\n",
    "    print(\"num_layers:\", num_layers)    # imprime 3 para dos capas ocultas, ya que hay 3 conjuntos de pesos (2 ocultas + 1 de salida)\n",
    "\n",
    "    # Inicializar la activación de la capa de entrada\n",
    "    activation = X\n",
    "    \n",
    "    # Realizar la propagación hacia adelante capa por capa\n",
    "    for l in range(num_layers):\n",
    "        # Calcular la entrada ponderada (z)\n",
    "        #z = np.dot(activation, weights[l].T) + biases[l]\n",
    "        z = activation @ weights[l].T + biases[l]\n",
    "        \n",
    "        # Aplicar la función de activación (a)\n",
    "        activation = sigmoid(z)\n",
    "    \n",
    "    # La salida de la red neuronal es la activación de la última capa\n",
    "    return activation\n",
    "\n",
    "def sigmoid(z):\n",
    "    \"\"\"\n",
    "    Aplica la función de activación sigmoide a un valor o array.\n",
    "    \n",
    "    Parámetro:\n",
    "    z (float o numpy.ndarray): Valor o array de valores a los que aplicar la función sigmoide\n",
    "    \n",
    "    Retorna:\n",
    "    float o numpy.ndarray: Valor o array con los resultados de aplicar la función sigmoide\n",
    "    \"\"\"\n",
    "    return 1 / (1 + np.exp(-z))\n",
    "\n",
    "def main():\n",
    "    # Cargar los datos preprocesados\n",
    "    data = pd.read_csv('data/preprocessed_data.csv')\n",
    "    \n",
    "    # Separar las características (X) y el objetivo (y)\n",
    "    X = data.iloc[:, 2:].values  # Características (features)\n",
    "    y = data['diagnosis'].values  # Objetivo (diagnóstico)\n",
    "    \n",
    "    # Definir la estructura de la red neuronal\n",
    "    num_inputs = X.shape[1]\n",
    "    num_outputs = 1\n",
    "    layer_sizes = [num_inputs, 32, 16, num_outputs]  # Neuronas de las DOS capas ocultas\n",
    "\n",
    "    # Inicializar aleatoriamente los pesos y sesgos\n",
    "    weights = [np.random.randn(layer_sizes[i+1], layer_sizes[i]) for i in range(len(layer_sizes)-1)]\n",
    "    biases = [np.random.randn(1, layer_sizes[i+1]) for i in range(len(layer_sizes)-1)]\n",
    "\n",
    "    # Realizar la propagación hacia adelante\n",
    "    predictions = forward_propagation(X, weights, biases)\n",
    "\n",
    "    print(\"Forma de X:\", X.shape)\n",
    "    print(\"Forma de las predicciones:\", predictions.shape)\n",
    "    print(\"Primeras 5 predicciones:\", predictions[:5])\n",
    "\n",
    "if __name__ == \"__main__\":\n",
    "    main()"
   ]
  },
  {
   "cell_type": "markdown",
   "id": "334a3602-284d-4ce3-9e4b-7c284cdcb271",
   "metadata": {},
   "source": [
    "## Cargando solo una función conreta\n",
    "`%load -s sigmoid ../src/forward_propagation.py`"
   ]
  },
  {
   "cell_type": "code",
   "execution_count": 5,
   "id": "a613d129-c51a-4719-b7e4-396f48fcc180",
   "metadata": {},
   "outputs": [],
   "source": [
    "# %load -s sigmoid ../src/forward_propagation.py\n",
    "def sigmoid(z):\n",
    "    \"\"\"\n",
    "    Aplica la función de activación sigmoide a un valor o array.\n",
    "    \n",
    "    Parámetro:\n",
    "    z (float o numpy.ndarray): Valor o array de valores a los que aplicar la función sigmoide\n",
    "    \n",
    "    Retorna:\n",
    "    float o numpy.ndarray: Valor o array con los resultados de aplicar la función sigmoide\n",
    "    \"\"\"\n",
    "    return 1 / (1 + np.exp(-z))\n"
   ]
  },
  {
   "cell_type": "markdown",
   "id": "3d877ac0-3a22-471f-b42c-c425e4a52df0",
   "metadata": {},
   "source": [
    "## Usando importación selectiva"
   ]
  },
  {
   "cell_type": "code",
   "execution_count": 1,
   "id": "142804b6-46aa-4097-b0cb-c86fcdafc098",
   "metadata": {},
   "outputs": [],
   "source": [
    "import sys\n",
    "sys.path.append('..')\n",
    "from src.forward_propagation import sigmoid"
   ]
  },
  {
   "cell_type": "code",
   "execution_count": 2,
   "id": "ffff1a4a-00df-47c8-8db1-316995361d6e",
   "metadata": {},
   "outputs": [
    {
     "data": {
      "text/plain": [
       "np.float64(0.5)"
      ]
     },
     "execution_count": 2,
     "metadata": {},
     "output_type": "execute_result"
    }
   ],
   "source": [
    "sigmoid(0)"
   ]
  },
  {
   "cell_type": "markdown",
   "id": "34ba7999-74ef-4250-bdab-fe11b055d671",
   "metadata": {},
   "source": [
    "## Importación con alias"
   ]
  },
  {
   "cell_type": "code",
   "execution_count": 2,
   "id": "5bbbfff1-aaa0-4fad-aa11-e39f80c65834",
   "metadata": {},
   "outputs": [],
   "source": [
    "import sys\n",
    "sys.path.append('..')\n",
    "from src.forward_propagation import sigmoid as sigmo"
   ]
  },
  {
   "cell_type": "code",
   "execution_count": 3,
   "id": "cb7bba9a-5342-4a24-8da1-57acd1637127",
   "metadata": {},
   "outputs": [
    {
     "data": {
      "text/plain": [
       "np.float64(0.5)"
      ]
     },
     "execution_count": 3,
     "metadata": {},
     "output_type": "execute_result"
    }
   ],
   "source": [
    "sigmo(0)"
   ]
  },
  {
   "cell_type": "markdown",
   "id": "a1389cd7-fcbd-41f9-bd77-68b52a4e9eab",
   "metadata": {},
   "source": [
    "# Limpiar impresion secuencial"
   ]
  },
  {
   "cell_type": "code",
   "execution_count": 4,
   "id": "c8fc1928-2165-4cf4-a7da-93d0da14bb7a",
   "metadata": {},
   "outputs": [
    {
     "name": "stdout",
     "output_type": "stream",
     "text": [
      "Output Number 10\n"
     ]
    }
   ],
   "source": [
    "import time\n",
    "from IPython.display import clear_output\n",
    "\n",
    "for i in range(10):\n",
    "    # Esperar antes de limpiar la salida\n",
    "    clear_output(wait=True)\n",
    "    print(f'Output Number {i+1}')\n",
    "    time.sleep(1)"
   ]
  },
  {
   "cell_type": "code",
   "execution_count": null,
   "id": "80f5a92c-e2fa-4a76-b0b6-cab52a7c0157",
   "metadata": {},
   "outputs": [],
   "source": []
  }
 ],
 "metadata": {
  "kernelspec": {
   "display_name": "Python 3 (ipykernel)",
   "language": "python",
   "name": "python3"
  },
  "language_info": {
   "codemirror_mode": {
    "name": "ipython",
    "version": 3
   },
   "file_extension": ".py",
   "mimetype": "text/x-python",
   "name": "python",
   "nbconvert_exporter": "python",
   "pygments_lexer": "ipython3",
   "version": "3.12.2"
  }
 },
 "nbformat": 4,
 "nbformat_minor": 5
}
